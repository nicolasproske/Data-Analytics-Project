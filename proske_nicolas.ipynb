{
 "cells": [
  {
   "cell_type": "markdown",
   "metadata": {},
   "source": [
    "![alt text][logo] <!-- OTH Amberg-Weiden Logo -->\n",
    "\n",
    "# <center>Studienarbeit Data Analytics</center>\n",
    "### <center><span style=\"color: #f29100\">Dozent: Prof. Dr. Fabian Brunner | Name: Nicolas Proske | Ausgabe: 08.06.2020 | Abgabe: 02.07.2020</span></center>\n",
    "\n",
    "<!-- VAR -->\n",
    "[logo]: https://jobboerse.oth-aw.de/_fh-amberg-weiden/images/logo_oth-aw.svg \"OTH Amberg-Weiden Logo\""
   ]
  },
  {
   "cell_type": "markdown",
   "metadata": {},
   "source": [
    "<a id='gliederung'></a>\n",
    "***\n",
    "## Gliederung\n",
    "* <a href='#aufgabe0'><b>Aufgabe 0</b></a> (Imports und allgemeine Definitionen)\n",
    "* <a href='#aufgabe1'><b>Aufgabe 1</b></a> (Messstationen, Datenakquise, Semistrukturierte Daten, Geovisualisierung)\n",
    "  * <a href='#aufgabe1a'>Teilaufgabe a</a>\n",
    "  * <a href='#aufgabe1b'>Teilaufgabe b</a>\n",
    "  * <a href='#aufgabe1c'>Teilaufgabe c</a>\n",
    "  * <a href='#aufgabe1d'>Teilaufgabe d</a>\n",
    "  * <a href='#aufgabe1e'>Teilaufgabe e</a>\n",
    "* <a href='#aufgabe2'><b>Aufgabe 2</b></a> (NO2-Daten, Datenvorbereitung, Datenqualität)\n",
    "  * <a href='#aufgabe2a'>Teilaufgabe a</a>\n",
    "  * <a href='#aufgabe2b'>Teilaufgabe b</a>\n",
    "  * <a href='#aufgabe2c'>Teilaufgabe c</a>\n",
    "  * <a href='#aufgabe2d'>Teilaufgabe d</a>\n",
    "  * <a href='#aufgabe2e'>Teilaufgabe e</a>\n",
    "  * <a href='#aufgabe2f'>Teilaufgabe f</a>\n",
    "* <a href='#aufgabe3'><b>Aufgabe 3</b></a> (Explorative Datenanalyse)\n",
    "  * <a href='#aufgabe3a'>Teilaufgabe a</a>\n",
    "  * <a href='#aufgabe3b'>Teilaufgabe b</a>\n",
    "  * <a href='#aufgabe3c'>Teilaufgabe c</a>\n",
    "  * <a href='#aufgabe3d'>Teilaufgabe d</a>\n",
    "* <a href='#aufgabe4'><b>Aufgabe 4</b></a> (Verletzung der zulässigen NO2-Grenzwerte)\n",
    "  * <a href='#aufgabe4a'>Teilaufgabe a</a>\n",
    "  * <a href='#aufgabe4b'>Teilaufgabe b</a>\n",
    "* <a href='#aufgabe5'><b>Aufgabe 5</b></a> (Visualisierung)\n",
    "  * <a href='#aufgabe5a'>Teilaufgabe a</a>\n",
    "  * <a href='#aufgabe5b'>Teilaufgabe b</a>\n",
    "  * <a href='#aufgabe5c'>Teilaufgabe c</a>\n",
    "* <a href='#aufgabe6'><b>Aufgabe 6</b></a> (Interaktives Diagramm)\n",
    "  * <a href='#aufgabe6a'>Teilaufgabe a</a>\n",
    "  * <a href='#aufgabe6b'>Teilaufgabe b</a>\n",
    "* <a href='#aufgabe7'><b>Aufgabe 7</b></a> (Abhängigkeit zwischen der Ozonkonzentration und der Temperatur)\n",
    "  * <a href='#aufgabe7a'>Teilaufgabe a</a>\n",
    "  * <a href='#aufgabe7b'>Teilaufgabe b</a>\n",
    "  * <a href='#aufgabe7c'>Teilaufgabe c</a>\n",
    "  * <a href='#aufgabe7d'>Teilaufgabe d</a>\n",
    "  * <a href='#aufgabe7e'>Teilaufgabe e</a>\n",
    "  * <a href='#aufgabe7f'>Teilaufgabe f</a>\n",
    "  * <a href='#aufgabe7g'>Teilaufgabe g</a>\n",
    "  * <a href='#aufgabe7h'>Teilaufgabe h</a>\n",
    "* <a href='#aufgabe8'><b>Aufgabe 8</b></a> (Einfluss der Coronavirus-Pandemie auf die Luftqualität)\n",
    "  * <a href='#aufgabe8a'>Teilaufgabe a</a>\n",
    "  * <a href='#aufgabe8b'>Teilaufgabe b</a>\n",
    "  * <a href='#aufgabe8c'>Teilaufgabe c</a>\n",
    "    * <a href='#aufgabe8cH1'>Hypothese 1</a>\n",
    "    * <a href='#aufgabe8cH2'>Hypothese 2</a>\n",
    "    * <a href='#aufgabe8cH3'>Hypothese 3</a>\n",
    "* <a href='#zusammenfassung'><b>Zusammenfassung der Analyseergebnisse</b></a>"
   ]
  },
  {
   "cell_type": "markdown",
   "metadata": {},
   "source": [
    "<a id='aufgabe0'></a>\n",
    "***\n",
    "## Aufgabe 0:\n",
    "> *Imports und allgemeine Definitionen*\n",
    "<br>\n",
    "<a href='#gliederung'><b>Zurück zur Gliederung</b></a>"
   ]
  },
  {
   "cell_type": "code",
   "execution_count": 1,
   "metadata": {},
   "outputs": [
    {
     "ename": "ModuleNotFoundError",
     "evalue": "No module named 'plotly'",
     "output_type": "error",
     "traceback": [
      "\u001b[1;31m---------------------------------------------------------------------------\u001b[0m",
      "\u001b[1;31mModuleNotFoundError\u001b[0m                       Traceback (most recent call last)",
      "\u001b[1;32m<ipython-input-1-d9ee50ff2cd8>\u001b[0m in \u001b[0;36m<module>\u001b[1;34m\u001b[0m\n\u001b[0;32m      6\u001b[0m \u001b[1;32mfrom\u001b[0m \u001b[0mmatplotlib\u001b[0m \u001b[1;32mimport\u001b[0m \u001b[0mpyplot\u001b[0m \u001b[1;32mas\u001b[0m \u001b[0mplt\u001b[0m \u001b[1;31m# Zur Erstellung von Plots\u001b[0m\u001b[1;33m\u001b[0m\u001b[1;33m\u001b[0m\u001b[0m\n\u001b[0;32m      7\u001b[0m \u001b[1;33m\u001b[0m\u001b[0m\n\u001b[1;32m----> 8\u001b[1;33m \u001b[1;32mimport\u001b[0m \u001b[0mplotly\u001b[0m\u001b[1;33m.\u001b[0m\u001b[0mgraph_objects\u001b[0m \u001b[1;32mas\u001b[0m \u001b[0mgo\u001b[0m \u001b[1;31m# Zur Erstellung des in Aufgabe 6 verlangten Säulendiagramms\u001b[0m\u001b[1;33m\u001b[0m\u001b[1;33m\u001b[0m\u001b[0m\n\u001b[0m\u001b[0;32m      9\u001b[0m \u001b[1;32mimport\u001b[0m \u001b[0mipywidgets\u001b[0m \u001b[1;32mas\u001b[0m \u001b[0mwidgets\u001b[0m \u001b[1;31m# Zur Erstellung der in Aufgabe 6 verlangten Radio-Buttons\u001b[0m\u001b[1;33m\u001b[0m\u001b[1;33m\u001b[0m\u001b[0m\n\u001b[0;32m     10\u001b[0m \u001b[1;33m\u001b[0m\u001b[0m\n",
      "\u001b[1;31mModuleNotFoundError\u001b[0m: No module named 'plotly'"
     ]
    }
   ],
   "source": [
    "# Alle wichtigen Imports festlegen\n",
    "\n",
    "import pandas as pd\n",
    "import numpy as np\n",
    "\n",
    "from matplotlib import pyplot as plt # Zur Erstellung von Plots\n",
    "\n",
    "import plotly.graph_objects as go # Zur Erstellung des in Aufgabe 6 verlangten Säulendiagramms\n",
    "import ipywidgets as widgets # Zur Erstellung der in Aufgabe 6 verlangten Radio-Buttons\n",
    "\n",
    "import requests # Um HTTP Anfragen an UBA-API ausführen zu können\n",
    "\n",
    "import folium # Interaktive Karte\n",
    "from folium import plugins # Für Minimap auf interaktiver Karte\n",
    "\n",
    "import os # Zur Erstellung eines neuen Ordners namens 'cache' (siehe unten)\n",
    "from os import path # Zur Überprüfung, ob Datei im angegebenen Pfad existiert\n",
    "\n",
    "%matplotlib inline\n",
    "\n",
    "# Erstelle einen Cache-Ordner, in dem später alle heruntergeladenen API-Daten gespeichert werden\n",
    "# Das hat den Vorteil, dass die Daten nur einmal von der API geladen werden müssen\n",
    "if not os.path.exists('cache'):\n",
    "    os.mkdir('cache')"
   ]
  },
  {
   "cell_type": "markdown",
   "metadata": {},
   "source": [
    "<a id='aufgabe1'></a>\n",
    "***\n",
    "## Aufgabe 1:\n",
    "> *Messstationen, Datenakquise, Semistrukturierte Daten, Geovisualisierung*\n",
    "<br>\n",
    "<a href='#gliederung'><b>Zurück zur Gliederung</b></a>"
   ]
  },
  {
   "cell_type": "markdown",
   "metadata": {},
   "source": [
    "<a id='aufgabe1a'></a>\n",
    "***\n",
    "<details>\n",
    "    <summary>a) Aufgabenstellung</summary>\n",
    "    <br>\n",
    "    Beziehen Sie über die Metadaten-API des Umweltbundesamts die Daten zu den Messstationen zum Stand 01.01.2020, indem Sie, z.B. unter Verwendung der Bibliothek <code>requests</code>, einen geeigneten HTTP-Request absetzen. Überführen Sie die erhaltenen (semistrukturierten) Daten in einen DataFrame namens <code>stations</code>, der für jede Station eine Zeile mit den verfügbaren Informationen enthält (z.B. Name, Adresse, Geokoordinaten, Bundesland etc.). Speichern Sie den DataFrame in eine CSV-Datei namens <code>stations_2020.csv</code> und laden Sie diese mit Ihrer Einreichung auf Moodle hoch.\n",
    "</details>"
   ]
  },
  {
   "cell_type": "code",
   "execution_count": null,
   "metadata": {
    "scrolled": false
   },
   "outputs": [],
   "source": [
    "# Prüfen, ob die Daten bereits als CSV Datei vorliegen\n",
    "if(path.exists('cache/stations_2020.csv')):\n",
    "    stations = pd.read_csv('cache/stations_2020.csv')\n",
    "else:\n",
    "    # Definiere die spezifischen URL-Parameter\n",
    "    payload = {'use': 'measure', 'lang': 'de', 'date_from': '2020-01-01', 'date_to': '2020-01-01'}\n",
    "\n",
    "    # POST-HTTP-Request mit oben vordefinirten Parametern\n",
    "    response = requests.post('https://www.umweltbundesamt.de/api/air_data/v2/meta/json', params=payload).json() # Umwandeln in JSON-Format\n",
    "\n",
    "    # Überführung der JSON-Response in einen DataFrame mittels Pandas\n",
    "    stations = pd.DataFrame(response['stations'], \n",
    "                            index=[\n",
    "                                'Id of station',\n",
    "                                'Code of station',\n",
    "                                'Name of station',\n",
    "                                'City of station',\n",
    "                                'Synonym of station',\n",
    "                                'Date of first activity',\n",
    "                                'Date of last activity',\n",
    "                                'Longitude of station',\n",
    "                                'Latitude of station',\n",
    "                                'Id of network',\n",
    "                                'Id of station setting',\n",
    "                                'Id of station type',\n",
    "                                'Code of network',\n",
    "                                'Name of network',\n",
    "                                'Name of station setting',\n",
    "                                'Short name of station setting',\n",
    "                                'Name of station type',\n",
    "                                'Street of station',\n",
    "                                'Street number of station',\n",
    "                                'ZIP code of station',\n",
    "                            ]).transpose() # Transpose bewirkt einen Wechsel der Zeilen & Spalten\n",
    "    \n",
    "    # Speichern des DataFrames als .csv-Datei\n",
    "    stations.to_csv('cache/stations_2020.csv', index=False)\n",
    "\n",
    "# Ersten 5 Einträge des DataFrames ausgeben\n",
    "stations"
   ]
  },
  {
   "cell_type": "markdown",
   "metadata": {},
   "source": [
    "<a id='aufgabe1b'></a>\n",
    "***\n",
    "<details>\n",
    "<summary>b) Aufgabenstellung</summary>\n",
    "<br>\n",
    "Wie viele Messstationen sind derzeit bundesweit in Betrieb?\n",
    "</details>"
   ]
  },
  {
   "cell_type": "code",
   "execution_count": null,
   "metadata": {},
   "outputs": [],
   "source": [
    "print('Bundesweit sind derzeit insgesamt ' + str(len(stations)) + ' Messstationen in Betrieb.')"
   ]
  },
  {
   "cell_type": "markdown",
   "metadata": {},
   "source": [
    "<a id='aufgabe1c'></a>\n",
    "***\n",
    "<details>\n",
    "    <summary>c) Aufgabenstellung</summary>\n",
    "    <br>\n",
    "    Visualisieren Sie mit Hilfe eines Kreisdiagramms, wie sich die Stationen hinsichtlich ihres Typs zusammensetzen.\n",
    "</details>"
   ]
  },
  {
   "cell_type": "code",
   "execution_count": null,
   "metadata": {
    "scrolled": false
   },
   "outputs": [],
   "source": [
    "# Größe des gesamten Charts ändern\n",
    "plt.figure(figsize=(16, 9))\n",
    "\n",
    "# Anzahl der jeweiligen Stationstypen herausfinden\n",
    "values = stations['Name of station type'].value_counts()\n",
    "\n",
    "# Kreisdiagramm mit formatierten (gerundeten) Labels anlegen\n",
    "plt.pie(values, labels=values.index, autopct='%.2f%%', textprops=dict(fontweight='bold'))\n",
    "\n",
    "# Legende mit Titel zu Kreisdiagramm hinzufügen\n",
    "plt.legend(title=\"Stationstypen\")\n",
    "\n",
    "# Titel des Plots setzen\n",
    "plt.title(\"Verteilung der Stationstypen\", fontdict=dict(fontweight='bold'))\n",
    "\n",
    "# Kreisdiagramm anzeigen\n",
    "plt.show()"
   ]
  },
  {
   "cell_type": "markdown",
   "metadata": {},
   "source": [
    "<a id='aufgabe1d'></a>\n",
    "***\n",
    "<details>\n",
    "    <summary>d) Aufgabenstellung</summary>\n",
    "    <br>\n",
    "    Erstellen Sie mit <code>folium</code> eine interaktive Karte, auf der die einzelnen Messstationen als Kreise eingezeichnet sind. Industrienahe Stationen sollen gelb, verkehrsnahe rot und die Stationen mit Hintergrundbelastung grün eingezeichnet werden. Beim Klick auf die Kreise sollen die Namen der Stationen angezeigt werden.\n",
    "</details>"
   ]
  },
  {
   "cell_type": "code",
   "execution_count": null,
   "metadata": {},
   "outputs": [],
   "source": [
    "# Neue Karte erstellen\n",
    "map_germany = folium.Map(location=[51.30, 10.0], zoom_start=6, control_scale=True)\n",
    "\n",
    "# Minimap zur besseren Übersicht erstellen\n",
    "minimap = plugins.MiniMap(toggle_display=True)\n",
    "\n",
    "# Minimap der großen Map hinzufügen\n",
    "map_germany.add_child(minimap)\n",
    "\n",
    "# Funktion zur Bestimmung der anzuzeigenden Farben\n",
    "def get_color_to_type(type):\n",
    "    if type == 'Hintergrund': return 'green'\n",
    "    elif type == 'Industrie': return 'yellow'\n",
    "    elif type == 'Verkehr': return 'red'\n",
    "    else: return 'black' # Falls die Daten nicht vorhanden sind\n",
    "     \n",
    "# Marker hinzufügen und je nach 'Name of station type' unterschiedlich einfärben\n",
    "stations.apply(lambda row: folium.CircleMarker(\n",
    "    location=[row['Latitude of station'], row['Longitude of station']], \n",
    "    popup=row['Name of station'], \n",
    "    radius=8, \n",
    "    color=get_color_to_type(row['Name of station type']), \n",
    "    fill_color=get_color_to_type(row['Name of station type'])\n",
    ").add_to(map_germany), axis=1)\n",
    "\n",
    "# Map anzeigen\n",
    "map_germany"
   ]
  },
  {
   "cell_type": "markdown",
   "metadata": {},
   "source": [
    "<a id='aufgabe1e'></a>\n",
    "***\n",
    "<details>\n",
    "    <summary>e) Aufgabenstellung</summary>\n",
    "    <br>\n",
    "    Erzeugen Sie durch Filterung des DataFrames <code>stations</code> einen DataFrame <code>stations_BY</code>, der die Informationen zu allen Messstationen in Bayern enthält.\n",
    "</details>"
   ]
  },
  {
   "cell_type": "code",
   "execution_count": null,
   "metadata": {
    "scrolled": false
   },
   "outputs": [],
   "source": [
    "# Alle bayerischen Stationen durch Pr üfen des Wertes in der Spalte 'Code of Network' in neue Variable speichern\n",
    "stations_BY = stations.loc[stations['Code of network'] == 'BY']\n",
    "\n",
    "# Erzeugten neuen DataFrame mit den ersten 10 Einträgen zu Messstationen in Bayern anzeigen\n",
    "stations_BY.head(35)"
   ]
  },
  {
   "cell_type": "markdown",
   "metadata": {},
   "source": [
    "<a id='aufgabe2'></a>\n",
    "***\n",
    "## Aufgabe 2: \n",
    "> *NO<sub>2</sub>-Daten, Datenvorbereitung, Datenqualitat*\n",
    "<br>\n",
    "<a href='#gliederung'><b>Zurück zur Gliederung</b></a>"
   ]
  },
  {
   "cell_type": "markdown",
   "metadata": {},
   "source": [
    "<a id='aufgabe2a'></a>\n",
    "***\n",
    "<details>\n",
    "    <summary>a) Aufgabenstellung</summary>\n",
    "    <br>\n",
    "    Laden Sie über die Measurements-API für alle bayerischen Stationen (wie oben ermittelt) die Ein-Stunden-Mittelwerte für die NO<sub>2</sub>-Konzentrationen für den Zeitraum 01.01.2016 bis 31.12.2019 herunter und überführen Sie diese in einen DataFrame namens <code>data_no2</code>. Dieser soll die Spalten <code>STATION_ID</code>, <code>DT</code> und <code>NO<sub>2</sub></code> besitzen, die die Stations-ID, das Messdatum mit Uhrzeit sowie die gemessene NO<sub>2</sub>-Konzentration enthalten.\n",
    "</details>"
   ]
  },
  {
   "cell_type": "code",
   "execution_count": null,
   "metadata": {
    "scrolled": false
   },
   "outputs": [],
   "source": [
    "# Prüfen, ob die Daten bereits als CSV Datei vorliegen\n",
    "if(path.exists('cache/data_no2.csv')):\n",
    "    data_no2 = pd.read_csv('cache/data_no2.csv')\n",
    "else:\n",
    "    # Definiere die spezifischen URL-Parameter\n",
    "    # Scope-ID: 2 = One hour average (siehe https://www.umweltbundesamt.de/api/air_data/v2/scopes/json)\n",
    "    # Component-ID: 5 = Nitrogen dioxide (siehe https://www.umweltbundesamt.de/api/air_data/v2/components/json)\n",
    "    payload = {'date_from': '2016-01-01', 'date_to': '2019-12-31', 'time_from': '1', 'time_to': '24', 'component': '5', 'scope': '2', 'station': ''}\n",
    "\n",
    "    # Aus Performancegründen eine leere temporäre Liste zum Speichern der einzelnen erhaltenen Daten anlegen\n",
    "    data_temp = []\n",
    "\n",
    "    # Iterieren über alle bayerischen Stationen\n",
    "    for id in stations_BY['Id of station']:\n",
    "    \n",
    "        # Station-ID für die API Abfrage aktualisieren\n",
    "        payload['station'] = id\n",
    "    \n",
    "        # POST-HTTP-Request mit oben vordefinirten Parametern\n",
    "        response = requests.post('https://www.umweltbundesamt.de/api/air_data/v2/measures/json', params=payload).json()\n",
    "    \n",
    "        # Zwischenspeichern der erhaltenen Daten\n",
    "        data = response['data']\n",
    "    \n",
    "        # Checken, ob die zurückgelieferten Daten vorhanden sind, falls nicht mit NaN in temporäre Liste 'data_temp' speichern\n",
    "        if not data:\n",
    "            data_temp.append([id, 'NaN', 'NaN'])\n",
    "            continue # Nächste Iteration durchführen\n",
    "        \n",
    "        # Über alle Schlüssel (Datum mit Uhrzeit) iterieren und Werte in temporäre Liste 'data_temp' speichern\n",
    "        for datetime in data[id].keys():\n",
    "            data_temp.append([id, datetime, data[id][datetime][2]])\n",
    "    \n",
    "    # DataFrame \"data_no2\" aus oben angelegter temporärer Liste 'data_temp' erstellen\n",
    "    # Grund dafür, dass ich erst jetzt den DataFrame erstelle und nicht am Anfang ist die bessere Performance der .append()-Methode normaler Listen ggü. DataFrames\n",
    "    data_no2 = pd.DataFrame(data_temp, columns=['STATION_ID', 'DT', 'NO2'])\n",
    "    \n",
    "    # Als CSV Datei abspeichern, sodass beim nächsten Durchlauf data_no2 um einiges schneller geladen werden kann\n",
    "    data_no2.to_csv('cache/data_no2.csv', index=False)\n",
    "\n",
    "# DataFrame ausgeben\n",
    "data_no2"
   ]
  },
  {
   "cell_type": "markdown",
   "metadata": {},
   "source": [
    "<a id='aufgabe2b'></a>\n",
    "***\n",
    "<details>\n",
    "    <summary>b) Aufgabenstellung</summary>\n",
    "    <br>\n",
    "    Setzen Sie den <code>dtype</code> der Spalte <code>NO<sub>2</sub></code> auf <code>float</code> und wandeln Sie die Spalte <code>DT</code> in ein DateTime-Format um.\n",
    "</details>"
   ]
  },
  {
   "cell_type": "code",
   "execution_count": null,
   "metadata": {},
   "outputs": [],
   "source": [
    "# Datentyp von DT und NO2 entsprechend ändern\n",
    "data_no2 = data_no2.astype({'DT' : 'datetime64', 'NO2' : 'float'})\n",
    "\n",
    "data_no2.info() # Überprüfung, ob Datentyp richtig geändert wurde"
   ]
  },
  {
   "cell_type": "markdown",
   "metadata": {},
   "source": [
    "<a id='aufgabe2c'></a>\n",
    "***\n",
    "<details>\n",
    "    <summary>c) Aufgabenstellung</summary>\n",
    "    <br>\n",
    "    Entfernen Sie alle Zeilen, bei denen der Wert in der Spalte <code>NO2</code> fehlt. Geben Sie an, wie viele Zeilen dadurch entfernt wurden.\n",
    "</details>"
   ]
  },
  {
   "cell_type": "code",
   "execution_count": null,
   "metadata": {},
   "outputs": [],
   "source": [
    "# Vorherherige Zeilenanzahl in Variable speichern, sodass der spätere Wert damit verglichen werden kann\n",
    "row_count_before = data_no2.shape[0]\n",
    "\n",
    "# Alle nicht vorhandenen Werte der Spalte \"NO2\" löschen\n",
    "data_no2.dropna(subset=['NO2'], how='all', inplace=True)\n",
    "\n",
    "# Neue Zeilenanzahl nach Löschen der Werte in neue Variable speichern\n",
    "row_count_after = data_no2.shape[0]\n",
    "\n",
    "# Entfernte Zeilen ausgeben\n",
    "deleted_values = row_count_before - row_count_after\n",
    "\n",
    "print('Es wurden insgesamt ' + str(deleted_values) + ' Einträge entfernt.')"
   ]
  },
  {
   "cell_type": "markdown",
   "metadata": {},
   "source": [
    "<a id='aufgabe2d'></a>\n",
    "***\n",
    "<details>\n",
    "    <summary>d) Aufgabenstellung</summary>\n",
    "    <br>\n",
    "    Entfernen Sie die Daten zu allen Stationen, die nicht für mindestens 95% der Messzeitpunkte im Auswertezeitraum einen gültigen Messwert enthalten.\n",
    "</details>"
   ]
  },
  {
   "cell_type": "code",
   "execution_count": null,
   "metadata": {},
   "outputs": [],
   "source": []
  },
  {
   "cell_type": "markdown",
   "metadata": {},
   "source": [
    "<a id='aufgabe2e'></a>\n",
    "***\n",
    "<details>\n",
    "    <summary>e) Aufgabenstellung</summary>\n",
    "    <br>\n",
    "    Für wie viele Stationen enthält der DataFrame <code>data_no2</code> nun noch Daten?\n",
    "</details>"
   ]
  },
  {
   "cell_type": "code",
   "execution_count": null,
   "metadata": {},
   "outputs": [],
   "source": [
    "# Die einzigartigen Einträge entsprechen der Anzahl der noch vorhandenen Stationen\n",
    "remaining_stations = data_no2['STATION_ID'].unique()\n",
    "\n",
    "print('Es sind insgesamt noch für ' + str(remaining_stations.size) + ' Stationen Daten vorhanden.')"
   ]
  },
  {
   "cell_type": "markdown",
   "metadata": {},
   "source": [
    "<a id='aufgabe2f'></a>\n",
    "***\n",
    "<details>\n",
    "    <summary>f) Aufgabenstellung</summary>\n",
    "    <br>\n",
    "    Zu welchen der bayerischen Stationen enthält er keine Daten (mehr)? Geben Sie deren IDs und Namen aus.\n",
    "</details>"
   ]
  },
  {
   "cell_type": "code",
   "execution_count": null,
   "metadata": {},
   "outputs": [],
   "source": [
    "data = [] # Temporäre Liste anlegen, worin später die gelöschten Stationen eingetragen werden\n",
    "\n",
    "# Über ALLE bayerischen Stationen iterieren (= Alle Stationen, also auch die vorhin entfernten sind in dieser Liste enthalten)\n",
    "for id in stations_BY['Id of station']:\n",
    "    # Prüfen, ob die ID in der \"geschrumpften\" Liste (ohne die gelöschten Stationen) enthalten ist, falls ja -> gelöschte Station gefunden\n",
    "    if id not in remaining_stations:\n",
    "        data.append([id, stations_BY.loc[stations_BY['Id of station'] == id]['Name of station'].values[0]]) # \"ID\" = aktuelle Iterations-ID und \"Name\" = Name an der Stelle der ID der jeweiligen bayerischen Station\n",
    "\n",
    "pd.DataFrame(data, columns=['Id of station', 'Name of station']) # DataFrame aus temporärer Liste der gelöschten bayerischen Stationen erstellen und ausgeben"
   ]
  },
  {
   "cell_type": "markdown",
   "metadata": {},
   "source": [
    "<a id='aufgabe3'></a>\n",
    "***\n",
    "## Aufgabe 3: \n",
    "> *Explorative Datenanalyse*\n",
    "<br>\n",
    "<a href='#gliederung'><b>Zurück zur Gliederung</b></a>"
   ]
  },
  {
   "cell_type": "markdown",
   "metadata": {},
   "source": [
    "<a id='aufgabe3a'></a>\n",
    "***\n",
    "<details>\n",
    "    <summary>a) Aufgabenstellung</summary>\n",
    "    <br>\n",
    "    Welches ist der in den Jahren 2016-2019 höchste gemessene Ein-Stunden-Mittelwert für NO<sub>2</sub>? Wann und an welcher Station wurde er gemessen?\n",
    "</details>"
   ]
  },
  {
   "cell_type": "code",
   "execution_count": null,
   "metadata": {},
   "outputs": [],
   "source": [
    "# Im DataFrame data_no2 in der Spalte \"NO2\" den höchsten Wert ermitteln und den dazugehörigen Zeilenindex abfragen\n",
    "result = data_no2.loc[data_no2['NO2'].idxmax()]\n",
    "\n",
    "print('Der höchste gemessene Ein-Stunden-Mittelwert für NO2 in Bayern in den Jahren 2016-2019 wurde ' +\n",
    "     'am ' + result['DT'].strftime(\"%d.%m.%Y\") + ', um ' + result['DT'].strftime(\"%H:%M:%S\") + ' Uhr ' +\n",
    "     'an der Station \"' + str(stations_BY.loc[stations_BY['Id of station'] == result['STATION_ID']]['Name of station'].values[0]) +\n",
    "     '\" (ID: ' + str(result['STATION_ID']) + ') ' + \n",
    "     'mit dem Wert ' + str(result['NO2']) + ' µg/m^3' + ' gemessen.')"
   ]
  },
  {
   "cell_type": "markdown",
   "metadata": {},
   "source": [
    "<a id='aufgabe3b'></a>\n",
    "***\n",
    "<details>\n",
    "    <summary>b) Aufgabenstellung</summary>\n",
    "    <br>\n",
    "    An welchem Tag im Auswertezeitraum war die durchschnittliche NO<sub>2</sub>-Konzentration über alle bayerischen Stationen am höchsten und welchen Wert hatte sie?\n",
    "</details>"
   ]
  },
  {
   "cell_type": "code",
   "execution_count": null,
   "metadata": {},
   "outputs": [],
   "source": [
    "# Einen \"neuen\" DataFrame mit dem Datum als Index und dem dazugehörigen Durchschnitts-NO2 Wert des jeweiligen Tages als Value er Spalte \"NO2\"\n",
    "temp_data_no2 = data_no2.copy()\n",
    "avg_daily_no2 = temp_data_no2.set_index('DT').groupby(pd.Grouper(freq='D')).mean() # pd.Grouper nutzt das DateTime-Format und gruppiert nach dem Datum ('D'). Alternativ kann man auch nach ('T') für Time gruppieren.\n",
    "\n",
    "# Im DataFrame avg_daily_no2 in der Spalte \"NO2\" den höchsten Wert ermitteln und den dazugehörigen Zeilenindex abfragen\n",
    "result = avg_daily_no2.loc[avg_daily_no2['NO2'].idxmax()]\n",
    "\n",
    "print('Der Wert war mit ' + str(round(result['NO2'], 2)) + ' µg/m^3 am '\n",
    "      + avg_daily_no2.iloc[result].index[0].strftime('%d.%m.%Y') + ' am höchsten.')"
   ]
  },
  {
   "cell_type": "markdown",
   "metadata": {},
   "source": [
    "<a id='aufgabe3c'></a>\n",
    "***\n",
    "<details>\n",
    "    <summary>c) Aufgabenstellung</summary>\n",
    "    <br>\n",
    "    Ermitteln Sie die 10 höchsten Messwerte und die zugehörigen Messzeitpunkte für die Station in der Nikolaistraße in Weiden.\n",
    "</details>"
   ]
  },
  {
   "cell_type": "code",
   "execution_count": null,
   "metadata": {},
   "outputs": [],
   "source": [
    "# ID der Weidener Station erhalten\n",
    "station_weiden_id = stations_BY.loc[stations_BY['City of station'] == 'Weiden i.d.OPf.']['Id of station'].values[0]\n",
    "\n",
    "# Werte der Weidener Station absteigend nach NO2 sortieren und ausgeben\n",
    "data_no2.loc[data_no2.STATION_ID==station_weiden_id, 'DT':'NO2'].sort_values(by=\"NO2\", ascending=False).head(10)"
   ]
  },
  {
   "cell_type": "markdown",
   "metadata": {},
   "source": [
    "<a id='aufgabe3d'></a>\n",
    "***\n",
    "<details>\n",
    "    <summary>d) Aufgabenstellung</summary>\n",
    "    <br>\n",
    "    Berechnen Sie die Mittelwerte der gemessenen NO<sub>2</sub>-Konzentrationen über die einzelnen Jahre. Wie haben sich diese zeitlich entwickelt? Unterscheiden Sie dabei auch nach dem Stations-Typ.\n",
    "</details>"
   ]
  },
  {
   "cell_type": "code",
   "execution_count": null,
   "metadata": {},
   "outputs": [],
   "source": [
    "temp_data_no2 = data_no2.copy()\n",
    "\n",
    "# 'Name of station type' (Messstationstyp) als neue Spalte zur dazugehörigen Stations-Id hinzufügen\n",
    "temp_data_no2 = data_no2.merge(stations_BY[['Id of station', 'Name of station type']], left_on='STATION_ID', right_on='Id of station')\n",
    "\n",
    "# DT als Index setzen, sodass danach gruppiert werden kann\n",
    "temp_data_no2 = temp_data_no2.set_index('DT')\n",
    "\n",
    "# Nicht mehr benötigte Spalten löschen\n",
    "temp_data_no2.drop(columns=['Id of station', 'STATION_ID'], inplace=True)\n",
    "\n",
    "# Nach Jahr und Stationstyp gruppieren und den jeweiligen Mittelwert berechnen\n",
    "temp_data_no2 = temp_data_no2.groupby(['Name of station type', pd.Grouper(freq='Y')]).mean()\n",
    "\n",
    "# Ergebnis ausgeben\n",
    "temp_data_no2"
   ]
  },
  {
   "cell_type": "markdown",
   "metadata": {},
   "source": [
    "### Auswertung der Aufgabe 3d)\n",
    "\n",
    "Anhand der jährlichen Durchschnittsdaten der NO2-Messwerte lässt sich erkennen, dass die Werte sowohl in den Verkehrs-, als auch in den Hintergrundbereichen von Jahr zu Jahr tendenziell gesunken sind."
   ]
  },
  {
   "cell_type": "markdown",
   "metadata": {},
   "source": [
    "<a id='aufgabe4'></a>\n",
    "***\n",
    "## Aufgabe 4: \n",
    "> *Verletzung der zulässigen NO<sub>2</sub>-Grenzwerte*\n",
    "<br>\n",
    "<a href='#gliederung'><b>Zurück zur Gliederung</b></a>"
   ]
  },
  {
   "cell_type": "markdown",
   "metadata": {},
   "source": [
    "<a id='aufgabe4a'></a>\n",
    "***\n",
    "<details>\n",
    "    <summary>a) Aufgabenstellung</summary>\n",
    "    <br>\n",
    "    Ermitteln Sie, an welchen bayerischen Stationen jeweils in den Jahren 2016-2019 Überschreitungen des Stundengrenzwerts (d.h. der Ein-Stunden-Mittelwert überschreitet 200 µg/m<sup>3</sup>) gemessen wurden, und geben Sie an wie viele Überschreitungen es jeweils waren. Dieser darf innerhalb eines Jahres höchstens 18-Mal pro Station überschritten werden. Welche Stationen haben dieses Kriterium verletzt?\n",
    "</details>"
   ]
  },
  {
   "cell_type": "code",
   "execution_count": null,
   "metadata": {},
   "outputs": [],
   "source": [
    "temp_data_no2 = data_no2.copy()\n",
    "\n",
    "# Alle Stationen erhalten, die einen NO2-Wert > 200 haben, nach Stations-ID gruppieren, die Anzahl der Einträge zählen und absteigend sortieren\n",
    "result = temp_data_no2.loc[data_no2['NO2'] > 200].groupby('STATION_ID').count().sort_values(by=\"NO2\", ascending=False)\n",
    "\n",
    "def get_name_to_station_id(id):\n",
    "    return stations_BY.loc[stations_BY['Id of station'] == id]['Name of station'].values[0]\n",
    "\n",
    "# Überschreitungen mit dazugehöriger Stations-ID ausgeben\n",
    "for id in result.index:\n",
    "    print('Die Station \"' + str(get_name_to_station_id(id)) + '\" hat den Grenzwert insgesamt ' + str(result.loc[result.index == id]['NO2'].values[0]) + 'x überschritten.')\n",
    "\n",
    "# Welche Station hat den Grenzwert innerhalb eines Jahres mehr als 18-Mal überschritten?\n",
    "station = result.loc[result['NO2'] > 18]\n",
    "\n",
    "print('\\nÜberschreitung des Grenzwertes über 18x: Die Station \"' + str(get_name_to_station_id(station.index.values[0])) + '\" hat den Grenzwert insgesamt ' + str(station['NO2'].values[0]) + 'x überschritten.')"
   ]
  },
  {
   "cell_type": "markdown",
   "metadata": {},
   "source": [
    "<a id='aufgabe4b'></a>\n",
    "***\n",
    "<details>\n",
    "    <summary>b) Aufgabenstellung</summary>\n",
    "    <br>\n",
    "    Ermitteln Sie, an welchen bayerischen Stationen und in welchen Jahren der Jahresmittelwert der Ein-Stunden-Mittelwerte die Grenze von 40µg/m<sup>3</sup> überschritten hat und geben Sie die zugehörigen Jahresmittelwerte an.\n",
    "</details>"
   ]
  },
  {
   "cell_type": "code",
   "execution_count": null,
   "metadata": {},
   "outputs": [],
   "source": [
    "temp_data_no2 = data_no2.copy()\n",
    "\n",
    "# Index auf \"DateTime\" (DT) setzen, sodass danach gruppiert werden kann\n",
    "temp_data_no2 = temp_data_no2.set_index('DT')\n",
    "\n",
    "# Nach den einzelnen Stationen & den jeweiligen Jahren gruppieren und die dazugehörigen Jahresmittelwerte berechnen\n",
    "temp_data_no2 = temp_data_no2.groupby(['STATION_ID', pd.Grouper(freq='Y')]).mean()\n",
    "\n",
    "# Alle Jahresdurchschnittswerte der einzelnen Stationen prüfen, ob Mittelwert > 40 ist\n",
    "temp_data_no2.loc[temp_data_no2['NO2'] > 40]"
   ]
  },
  {
   "cell_type": "markdown",
   "metadata": {},
   "source": [
    "<a id='aufgabe5'></a>\n",
    "***\n",
    "## Aufgabe 5: \n",
    "> *Visualisierung*\n",
    "<br>\n",
    "<a href='#gliederung'><b>Zurück zur Gliederung</b></a>"
   ]
  },
  {
   "cell_type": "markdown",
   "metadata": {},
   "source": [
    "<a id='aufgabe5a'></a>\n",
    "***\n",
    "<details>\n",
    "    <summary>a) Aufgabenstellung</summary>\n",
    "    <br>\n",
    "    Erstellen Sie ein Histogramm über alle gemessenen NO<sub>2</sub>-Konzentrationen im Auswertungszeitraum 2016-2019.\n",
    "</details>"
   ]
  },
  {
   "cell_type": "code",
   "execution_count": null,
   "metadata": {},
   "outputs": [],
   "source": [
    "plt.figure(figsize=(15, 15))\n",
    "\n",
    "temp_data_no2 = data_no2.copy()\n",
    "\n",
    "# Anzahl der jeweiligen Stationstypen herausfinden\n",
    "values = temp_data_no2['NO2']\n",
    "\n",
    "# Histogramm anlegen - der zweite Parameter (100) entspricht den Unterteilungen\n",
    "plt.hist(values, 100, edgecolor='black', label='NO2-Konzentration', color='dodgerblue')\n",
    "\n",
    "# Vertikale Linie des Wertes des Medians einzeichnen\n",
    "plt.axvline(float(values.mean()), color='red', label='Median', linewidth='1.5', linestyle='dashed')\n",
    "\n",
    "plt.legend()\n",
    "plt.title('Häufigkeitsverteilung der gemessenenen NO2-Konzentrationen von 2016-2019', fontdict=dict(fontweight='bold'))\n",
    "\n",
    "# Achsenbeschriftung hinzufügen\n",
    "plt.xlabel('NO2-Konzentration in µg/m^3')\n",
    "plt.ylabel('Häufigkeit')\n",
    "\n",
    "# Grid zur besseren Übersicht hinzufügen\n",
    "plt.grid(True)\n",
    "\n",
    "plt.show()"
   ]
  },
  {
   "cell_type": "markdown",
   "metadata": {},
   "source": [
    "<a id='aufgabe5b'></a>\n",
    "***\n",
    "<details>\n",
    "    <summary>b) Aufgabenstellung</summary>\n",
    "    <br>\n",
    "    Stellen Sie den jahreszeitlichen Verlauf der gemessenen NO<sub>2</sub>-Konzentrationen in einem geeigneten Diagramm dar. Was ist zu beobachten und wie kann dies erklärt werden?\n",
    "</details>"
   ]
  },
  {
   "cell_type": "code",
   "execution_count": null,
   "metadata": {
    "scrolled": false
   },
   "outputs": [],
   "source": [
    "plt.figure(figsize=(16, 8))\n",
    "\n",
    "# Zwei neue \"temporäre\" Spalten anlegen, sodass die Jahre und Monate der dazugehörigen Station leichter abgefragt werden können\n",
    "temp_data_no2['year'] = temp_data_no2['DT'].dt.year\n",
    "temp_data_no2['month'] = temp_data_no2['DT'].dt.month\n",
    "\n",
    "# DataFrame nach Jahr und Monat gruppieren, den dazugehörigen Mittelwert der NO2-Konzentration berechnen\n",
    "# unstack() bewirkt, dass die Mittelwerte der Jahre mit den dazugehörigen Monaten in ein übersichtlichen DataFrame umgewandelt werden\n",
    "# Anschließend wird der von unstack() zurückgelieferte DataFrame nach Monaten sortiert\n",
    "values = temp_data_no2.groupby(['month', 'year']).mean()['NO2'].unstack().sort_values(ascending=True, by='month')\n",
    "\n",
    "# Liniendiagramm anlegen\n",
    "plt.plot(values)\n",
    "\n",
    "# Legende mit Jahreswerten hinzufügen\n",
    "plt.legend(('2016', '2017', '2018', '2019'))\n",
    "\n",
    "plt.title('Jahreszeitlicher Verlauf der gemessenen NO2-Konzentrationen', fontdict=dict(fontweight='bold'))\n",
    "\n",
    "plt.xlabel('Monat')\n",
    "plt.ylabel('Durschnittlich monatlich gemessene NO2-Konzentration in µg/m^3')\n",
    "\n",
    "# x-Achsenwerte mit Schrittweite 1 hinzufügen (Darstellung der Monate)\n",
    "plt.xticks(np.arange(0, 13, step=1))\n",
    "\n",
    "plt.grid(True)\n",
    "\n",
    "plt.show()"
   ]
  },
  {
   "cell_type": "markdown",
   "metadata": {},
   "source": [
    "### Auswertung der Aufgabe 5b)\n",
    "\n",
    "Der jahreszeitliche Verlauf zeigt, dass die NO2-Konzentration in den Sommermonaten sinkt und zu den Wintermonaten wieder steigt. Es ist bekanntlich so, dass kalte Luft am Boden bleibt, somit bleibt auch NO2 bei kalten Temperaturen eher im bodennahen Bereich. In den warmen Sommermonaten hingegen steigen die Luftmassen nach oben. Dadurch kann sich das NO2 viel besser verteilen und sich mit sauberer Luft vermischen, sodass folglich die NO2-Werte sinken."
   ]
  },
  {
   "cell_type": "markdown",
   "metadata": {},
   "source": [
    "<a id='aufgabe5c'></a>\n",
    "***\n",
    "<details>\n",
    "    <summary>c) Aufgabenstellung</summary>\n",
    "    <br>\n",
    "    Visualisieren Sie in einem geeigneten Diagramm den Zeitverlauf der Tagesmittel der gemessenen NO<sub>2</sub>-Konzentrationen im Beobachtungszeitraum. Lassen sich Trends erkennen?\n",
    "</details>"
   ]
  },
  {
   "cell_type": "code",
   "execution_count": null,
   "metadata": {},
   "outputs": [],
   "source": [
    "plt.figure(figsize=(16, 8))\n",
    "\n",
    "# DT als Index festlegen, sodass mit pd.Grouper nach dem angegebenen Parameter (hier 'D' = 'Day') gruppiert werden kann\n",
    "# Davon wird der Mittelwert der Spalte 'NO2' berechnet\n",
    "values = temp_data_no2.set_index('DT').groupby(pd.Grouper(freq='D')).mean()['NO2']\n",
    "\n",
    "plt.plot(values, label='NO2-Konzentration', color='dodgerblue')\n",
    "\n",
    "plt.axhline(float(values.mean()), color='red', label='Durchschnittl. NO2-Konz.', linewidth='1.5', linestyle='dashed')\n",
    "\n",
    "plt.legend()\n",
    "\n",
    "plt.title('Zeitlicher Verlauf der Tagesmittelwerte der NO2-Konzentration', fontdict=dict(fontweight='bold'))\n",
    "\n",
    "plt.xlabel('Zeitpunkt')\n",
    "plt.ylabel('Durschnittlich monatlich gemessene NO2-Konzentration in µg/m^3')\n",
    "\n",
    "plt.grid()\n",
    "\n",
    "plt.show()"
   ]
  },
  {
   "cell_type": "markdown",
   "metadata": {},
   "source": [
    "### Auswertung der Aufgabe 5c)\n",
    "\n",
    "Die gemessenen NO2-Tagesmittelwerte fallen in den kälteren Monaten des Jahres tendentiell höher aus als es in den Sommermonaten der Fall ist. Zudem lässt sich leicht erkennen, dass die Werte an den Werktagen steigen und zum Wochenende hin fallen."
   ]
  },
  {
   "cell_type": "markdown",
   "metadata": {},
   "source": [
    "<a id='aufgabe6'></a>\n",
    "***\n",
    "## Aufgabe 6: \n",
    "> *Interaktives Diagramm*\n",
    "<br>\n",
    "<a href='#gliederung'><b>Zurück zur Gliederung</b></a>"
   ]
  },
  {
   "cell_type": "markdown",
   "metadata": {},
   "source": [
    "<a id='aufgabe6a'></a>\n",
    "***\n",
    "<details>\n",
    "    <summary>a) Aufgabenstellung</summary>\n",
    "    <br>\n",
    "    Erzeugen Sie ein interaktives Säulendiagramm in <code>Plotly</code>, in welchem die Mittelwerte der NO2-Konzentrationen im Tagesverlauf über die (vollen) Stunden aufgetragen werden. Verwenden Sie als Datengrundlage die Messwerte der bayerischen Stationen aus dem DataFrame <code>no2_data</code>. Das Diagramm soll zwei Radio-Buttons enthalten. Über den ersten RadioButton kann der Stations-Typ geﬁltert werden (Auswahlmöglichkeiten <code>all</code>, <code>background</code> und <code>traffic</code>), über den zweiten Radio-Button kann der Wochentag eingeschränkt werden (Auswahlmöglichkeiten <code>All</code>, <code>Monday</code>, ..., <code>Sunday</code>). \n",
    "</details>"
   ]
  },
  {
   "cell_type": "code",
   "execution_count": null,
   "metadata": {
    "scrolled": false
   },
   "outputs": [],
   "source": [
    "temp_data_no2 = data_no2.copy()\n",
    "\n",
    "# 'Name of station type' (Messstationstyp) als neue Spalte zur dazugehörigen Stations-Id hinzufügen\n",
    "temp_data_no2 = data_no2.merge(stations_BY[['Id of station', 'Name of station type']], left_on='STATION_ID', right_on='Id of station')\n",
    "\n",
    "# Nicht mehr benötigte Spalten löschen\n",
    "temp_data_no2.drop(columns=['Id of station', 'STATION_ID'], inplace=True)\n",
    "\n",
    "# Hinzufügen zwei neuer Spalten 'DAY_OF_WEEK' und 'HOUR', sodass danach gruppiert werden kann\n",
    "temp_data_no2['DAY_OF_WEEK'] = temp_data_no2['DT'].dt.dayofweek\n",
    "temp_data_no2['HOUR'] = temp_data_no2['DT'].dt.hour\n",
    "\n",
    "# Anlegen einer leeren Liste für die x-Achsen-Werte\n",
    "x_values = []\n",
    "\n",
    "# x-Achsen-Werte zu Liste 'x_values' hinzufügen\n",
    "for i in range(0, 24): # Über alle Stunden iterieren\n",
    "    # Zeitspanne der vollen Stunden zur Liste hinzufügen\n",
    "    x_values.append(str(i) + ' bis ' + str(i + 1) + ' Uhr')\n",
    "\n",
    "# Stationstyp, Wochentag und Stunde zusammen gruppieren und daraus stündliche NO2-Mittelwerte berechnen\n",
    "hourly_avg = temp_data_no2.groupby(['Name of station type', 'DAY_OF_WEEK', 'HOUR'], as_index=False)['NO2'].mean()\n",
    "\n",
    "# Aktualisieren der y-Werte des Bar-Charts abhängig von den ausgewählten Radio-Buttons\n",
    "def y_values():\n",
    "    temp_type = type_radio.value # Aktuell ausgewählter Stations-Typ\n",
    "    temp_weekday = weekday_radio.value # Aktuell ausgewählter Wochentag\n",
    "     \n",
    "    # Ausgewählter Stations-Typ\n",
    "    if temp_type == 'Alle':\n",
    "        # Stations-Typ außen vor lassen und nur nach Wochentag und Stunde gruppieren\n",
    "        temp_values = hourly_avg.groupby(['DAY_OF_WEEK', 'HOUR'], as_index=False)\n",
    "        \n",
    "        # NO2-Mittelwerte berechnen\n",
    "        temp_values = temp_values['NO2'].mean()\n",
    "        #print(temp_values)\n",
    "    else:\n",
    "        # Nach dem ausgewähltem Station-Typ filtern\n",
    "        temp_values = hourly_avg.loc[hourly_avg['Name of station type'] == temp_type]\n",
    "        #print(temp_values)\n",
    "    \n",
    "    # Ausgewählter Wochentag\n",
    "    if temp_weekday == 'Alle':\n",
    "        # Wochentag außen vor lassen und nur nach den Stunden gruppieren\n",
    "        temp_values = temp_values.groupby(['HOUR'], as_index=False)\n",
    "        \n",
    "        # NO2-Mittelwerte berechnen\n",
    "        temp_values = temp_values['NO2'].mean()\n",
    "        #print(temp_values)\n",
    "    else:\n",
    "        # Nach ausgewähltem Wochentag filtern, sodass in der Spalte 'DAY_OF_WEEK' nur noch der numerische Wert des Wochentags steht (bei Montag z.B. \"0\")\n",
    "        temp_values = temp_values.loc[temp_values['DAY_OF_WEEK'] == weekdays.index(temp_weekday) - 1]\n",
    "        #print(temp_values)\n",
    "        \n",
    "    # Spalte NO2 als y-Werte zurückliefern\n",
    "    return temp_values['NO2']\n",
    "\n",
    "# Erstellen der Radio-Buttons für den Stations-Typ \n",
    "# Kleine Abweichung von Aufgabenstellung: Deutsche Benennung, da die obige API-Abfrage mit 'lang=de' ausgeführt wurde\n",
    "type_radio = widgets.RadioButtons(options=['Alle',\n",
    "                                            'Hintergrund',\n",
    "                                            'Verkehr'\n",
    "                                           ], description='Stations-Typ')\n",
    "\n",
    "# Extra Liste der Wochentage erstellen, da in den Methode 'y_values' darauf zugegriffen werden muss\n",
    "weekdays = ['Alle', 'Montag', 'Dienstag', 'Mittwoch', 'Donnerstag', 'Freitag', 'Samstag', 'Sonntag']\n",
    "# Erstellen des Radio-Buttons für die Wochentage\n",
    "weekday_radio = widgets.RadioButtons(options=weekdays, description='Wochentag')\n",
    "\n",
    "# \"Event\" wird ausgelöst, sobald ein Radio-Button der Gruppe 'Stations-Typ' ausgewählt wurde\n",
    "def on_click_type(change):\n",
    "    fig.data[0].y = y_values()\n",
    "\n",
    "# \"Event\" wird ausgelöst, sobald ein Radio-Button der Gruppe 'Wochentag' ausgewählt wurde\n",
    "def on_click_weekday(change):\n",
    "    fig.data[0].y = y_values()\n",
    "\n",
    "# 'on_click_type' als Handler registrieren, der aufgerufen wird, sobald sich der Radio-Button 'types_radio' ändert\n",
    "type_radio.observe(on_click_type)\n",
    "# 'on_click_weekday' als Handler registrieren, der aufgerufen wird, sobald sich der Radio-Button 'weekday_radio' ändert\n",
    "weekday_radio.observe(on_click_weekday)\n",
    "\n",
    "# Zeichnen des Bar-Charts\n",
    "fig = go.FigureWidget()\n",
    "\n",
    "# Hinzufügen der Säulen\n",
    "fig.add_trace(go.Bar(x=x_values, y=y_values(), text=y_values()))\n",
    "\n",
    "# Hinzufügen des Wertes zur Säule und Ändern der Säulenfarbe\n",
    "fig.update_traces(marker_color='dodgerblue')\n",
    "\n",
    "# 45 Grad Winkel + etwas größerer Säulenabstand zur besseren Lesbarkeit\n",
    "fig.update_layout(xaxis_tickangle=45, bargap=0.20)\n",
    "\n",
    "# Titel + X-/Y-Achsenbeschriftung setzen\n",
    "fig.update_layout(title_text='Mittelwerte der NO2-Konzentrationen im Tagesverlauf über die vollen Stunden')\n",
    "fig.update_layout(\n",
    "    xaxis=dict(\n",
    "        title='Tagesverlauf in vollen Stunden',\n",
    "        titlefont_size=14,\n",
    "        tickfont_size=12,\n",
    "    ),\n",
    "    yaxis=dict(\n",
    "        title='NO2-Konzentration in µg/m^3',\n",
    "        titlefont_size=14,\n",
    "        tickfont_size=12,\n",
    "        range=[0, 55]\n",
    "    ))\n",
    "\n",
    "# Zusammenfügen des Bar-Charts mit den Radio-Buttons zu einer vertikal angeordneten Box\n",
    "w_box = widgets.VBox([fig, widgets.Box([type_radio, weekday_radio])])\n",
    "\n",
    "# Bar-Chart inklusive Radio-Buttons anzeigen\n",
    "w_box"
   ]
  },
  {
   "cell_type": "markdown",
   "metadata": {},
   "source": [
    "<a id='aufgabe6b'></a>\n",
    "***\n",
    "<details>\n",
    "    <summary>b) Aufgabenstellung</summary>\n",
    "    <br>\n",
    "    Analysieren Sie anhand des erstellten Diagramms den tageszeitlichen Verlauf der NO<sub>2</sub>-Konzentration in Abhängigkeit des Stations-Typs und des Wochentags. Beschreiben und interpretieren Sie die beobachteten Zusammenhänge.\n",
    "</details>"
   ]
  },
  {
   "cell_type": "markdown",
   "metadata": {},
   "source": [
    "### Auswertung der Aufgabe 6a)\n",
    "\n",
    "Bei der Analyse des Säulendiagramms lässt sich grundsätzlich festhalten, dass die NO2-Belastung unter der Woche tendenziell höher ausfällt als am Wochenende. Dieser Aspekt lässt sich darauf zurückführen, dass an Werktagen der Berufsverkehr zusätzlich zum normalen Alltagsverkehr hinzukommt.\n",
    "\n",
    "Sobald man zwischen den beiden Stations-Typen \"Hintergrund\" und \"Verkehr\" unterscheidet fällt auf, dass die NO2-Konzentration bei verkehrsnahen Stationen deutlich höher als bei Messstationen im Hintergrund ist.\n",
    "\n",
    "Betrachtet man dazu den Tagesverlauf unter der Woche wird deutlich, dass zu den Stoßzeiten des Berufsverkehrs, also von 5-10 Uhr vormittags und von 16-20 Uhr abends, die NO2-Werte ihre Höhepunkte erreichen.\n",
    "\n",
    "Ohne Unterscheidung des Stations-Typ fällt am Wochenende auf, dass der Berufsverkehr in der früh nahezu wegfällt, allerdings steigen die Werte gegen Abend wieder an. Das kann daran liegen, da einige Berufstätige über das Wochenende daheim sind und Sonntag Abend wieder zu ihrer Zweitwohnung nahe der Arbeit fahren."
   ]
  },
  {
   "cell_type": "markdown",
   "metadata": {},
   "source": [
    "<a id='aufgabe7'></a>\n",
    "***\n",
    "## Aufgabe 7: \n",
    "> *Abhängigkeit zwischen der Ozonkonzentration und der Temperatur*\n",
    "<br>\n",
    "<a href='#gliederung'><b>Zurück zur Gliederung</b></a>"
   ]
  },
  {
   "cell_type": "markdown",
   "metadata": {},
   "source": [
    "<a id='aufgabe7a'></a>\n",
    "***\n",
    "<details>\n",
    "    <summary>a) Aufgabenstellung</summary>\n",
    "    <br>\n",
    "    Laden Sie sich die Wetterdaten aus der Datei <code>wetterdaten.csv</code> in einen DataFrame namens <code>df_weather</code>. Dieser enthält historische Wetterdaten für die Oberpfalz für die Jahre 2016-2019. Für unsere Analyse ist die Spalte <code>temperatureMax</code> relevant, die die Tageshöchsttemperaturen in Grad Fahrenheit beinhaltet.\n",
    "</details>"
   ]
  },
  {
   "cell_type": "code",
   "execution_count": null,
   "metadata": {},
   "outputs": [],
   "source": [
    "# CSV Datei lesen und in neuen DataFrame 'df_weather' speichern\n",
    "df_weather = pd.read_csv(\"wetterdaten.csv\")\n",
    "df_weather.drop(['icon', 'precipType'], axis=1, inplace=True)\n",
    "\n",
    "# DataFrame ausgeben\n",
    "df_weather"
   ]
  },
  {
   "cell_type": "markdown",
   "metadata": {},
   "source": [
    "<a id='aufgabe7b'></a>\n",
    "***\n",
    "<details>\n",
    "    <summary>b) Aufgabenstellung</summary>\n",
    "    <br>\n",
    "    Wandeln Sie die Temperaturwerte in Grad Celsius um.\n",
    "</details>"
   ]
  },
  {
   "cell_type": "code",
   "execution_count": null,
   "metadata": {},
   "outputs": [],
   "source": [
    "# Formel zur Umrechnung von Grad Fahrenheit in Grad Celsius:\n",
    "# https://www.mathe-lexikon.at/grundlagen/masseinheit/temperatur/grad-fahrenheit/umrechnung-in-grad-celsius.html\n",
    "\n",
    "# Angewendet auf die Spalte 'temperatureMax' mit Hilfe einer lambda-Funktion\n",
    "df_weather['temperatureMax'] = df_weather['temperatureMax'].apply(lambda tempF: round((tempF - 32) / 1.8, 2))\n",
    "\n",
    "# DataFrame ausgeben\n",
    "df_weather"
   ]
  },
  {
   "cell_type": "markdown",
   "metadata": {},
   "source": [
    "<a id='aufgabe7c'></a>\n",
    "***\n",
    "<details>\n",
    "    <summary>c) Aufgabenstellung</summary>\n",
    "    <br>\n",
    "    Laden Sie über die Measurements-API für die Station in der Nikolaistraße in Weiden die Ein-Stunden-Mittelwerte für die Ozon-Konzentrationen für den Zeitraum 01.01.2016 bis 31.12.2019 herunter und überführen Sie diese in einen DataFrame namens <code>data_o3</code>. Dieser soll die Spalten <code>DT</code> und <code>O3</code> besitzen, die das Messdatum mit Uhrzeit (Beginn der Stunde, über die gemittelt wird) und die gemessene O<sub>3</sub>-Konzentration enthalten.\n",
    "</details>"
   ]
  },
  {
   "cell_type": "code",
   "execution_count": null,
   "metadata": {},
   "outputs": [],
   "source": [
    "if(path.exists('cache/data_o3.csv')):\n",
    "    data_o3 = pd.read_csv('cache/data_o3.csv')\n",
    "else:\n",
    "    # Weidener Stations-ID festlegen\n",
    "    station_id = \"509\"\n",
    "\n",
    "    # Definiere die spezifischen URL-Parameter\n",
    "    # Scope-ID: 2 = One hour average (s. https://www.umweltbundesamt.de/api/air_data/v2/scopes/json)\n",
    "    # Component-ID: 3 = Ozone (s. https://www.umweltbundesamt.de/api/air_data/v2/components/json)\n",
    "    payload = {'date_from': '2016-01-01', 'date_to': '2019-12-31', 'time_from': '1', 'time_to': '24', 'component': '3', 'scope': '2', 'station': station_id}\n",
    "\n",
    "    # Leere temporäre Liste zum Speichern der erhaltenen Daten anlegen\n",
    "    data_temp_o3 = []\n",
    "\n",
    "    # POST-HTTP-Request mit oben vordefinirten Parametern\n",
    "    response = requests.post('https://www.umweltbundesamt.de/api/air_data/v2/measures/json', params=payload).json()\n",
    "    data = response['data']\n",
    "\n",
    "    # Über alle Schlüssel (Datum mit Uhrzeit) iterieren und Werte in temporäre Liste 'data_temp_o3' speichern\n",
    "    for datetime in data[station_id].keys():\n",
    "        data_temp_o3.append([datetime, data[station_id][datetime][2]])\n",
    "    \n",
    "    # DataFrame aus erhaltenen Daten erstellen\n",
    "    data_o3 = pd.DataFrame(data_temp_o3, columns=['DT', 'O3'])\n",
    "    \n",
    "    # Speichern des DataFrames als .csv-Datei\n",
    "    data_o3.to_csv('cache/data_o3.csv', index=False)\n",
    "\n",
    "# DataFrame ausgeben\n",
    "data_o3"
   ]
  },
  {
   "cell_type": "code",
   "execution_count": null,
   "metadata": {},
   "outputs": [],
   "source": [
    "# Datentyp von DT und O3 entsprechend ändern\n",
    "data_o3 = data_o3.astype({'DT' : 'datetime64', 'O3' : 'float'})\n",
    "\n",
    "data_o3.info() # Überprüfung, ob Datentyp richtig geändert wurde"
   ]
  },
  {
   "cell_type": "markdown",
   "metadata": {},
   "source": [
    "<a id='aufgabe7d'></a>\n",
    "***\n",
    "<details>\n",
    "    <summary>d) Aufgabenstellung</summary>\n",
    "    <br>\n",
    "    Aggregieren Sie die Messwerte, indem Sie die O<sub>3</sub>-Maximalkonzentrationen pro Tag ermitteln und diese in einen DataFrame namens <code>o3_data_max</code> speichern.\n",
    "</details>"
   ]
  },
  {
   "cell_type": "code",
   "execution_count": null,
   "metadata": {},
   "outputs": [],
   "source": [
    "# Temporären DataFrame des ursprünglichen DataFrame 'data_o3' anlegen\n",
    "temp_data_o3 = data_o3.copy()\n",
    "\n",
    "# Indizierung auf DT ändern, sodass danach mittels pd.Grouper gruppiert werden kann\n",
    "# Werte der noch vorhandenen Spalte 'O3' nach den Maximalwerten aggregieren\n",
    "o3_data_max = temp_data_o3.set_index('DT').groupby(pd.Grouper(freq='D')).agg(['max'])\n",
    "\n",
    "# Neuen DataFrame 'o3_data_max' mit den enthaltenen Maximalwerten ausgeben\n",
    "o3_data_max"
   ]
  },
  {
   "cell_type": "markdown",
   "metadata": {},
   "source": [
    "<a id='aufgabe7e'></a>\n",
    "***\n",
    "<details>\n",
    "    <summary>e) Aufgabenstellung</summary>\n",
    "    <br>\n",
    "    Stellen Sie den zeitlichen Verlauf der aggregierten Tageswerte für die Jahre 2016-2019 grafisch dar und beschreiben Sie die beobachteten Trends.\n",
    "</details>"
   ]
  },
  {
   "cell_type": "code",
   "execution_count": null,
   "metadata": {},
   "outputs": [],
   "source": [
    "plt.figure(figsize=(16, 6))\n",
    "\n",
    "plot = plt.plot(o3_data_max, label='O3-Konzentration', color='dodgerblue')\n",
    "\n",
    "plt.axhline(float(o3_data_max.mean()), color='red', label='Durchschnittl. O3-Konz.', linewidth='1.5', linestyle='dashed')\n",
    "\n",
    "plt.legend()\n",
    "\n",
    "plt.title('Zeitlicher Verlauf der aggregierten Tageswerte der O3-Konzentration 2016-2019', fontdict=dict(fontweight='bold'))\n",
    "\n",
    "plt.xlabel('Zeitpunkt')\n",
    "plt.ylabel('Täglich gemessene Maximalwerte der O3-Konzentration in µg/m^3')\n",
    "\n",
    "plt.grid()\n",
    "\n",
    "plt.show()"
   ]
  },
  {
   "cell_type": "markdown",
   "metadata": {},
   "source": [
    "### Auswertung der Aufgabe 7e)\n",
    "\n",
    "Anhand dieser Grafik lässt sich gut erkennen, dass die O3-Konzentration in den Wintermonaten ihren Tiefpunkt und in den Sommermonaten zwischen Juni und September ihren Höchstpunkt erreicht. Dieser Trend steht mit den warmen Sommertagen in Verbindung. Die warme Luft sorgt dafür, dass sich mit Hilfe des UV-Lichts der Sonne leichter aus NO2 (welches zum Großteil aus Autoabgase stammt) ein Sauerstoffatom freisetzt, welches anschließend mit einem Sauerstoffmolekül reagiert und Ozon entstehen lässt."
   ]
  },
  {
   "cell_type": "markdown",
   "metadata": {},
   "source": [
    "<a id='aufgabe7f'></a>\n",
    "***\n",
    "<details>\n",
    "    <summary>f) Aufgabenstellung</summary>\n",
    "    <br>\n",
    "    Erstellen Sie ein Streudiagramm, in dem die Maximalkonzentration (y-Achse) und die Maximaltemperatur (x-Achse) der einzelnen Tage für die Jahre 2016-2019 gegeneinander aufgetragen sind. Beschreiben und erklären Sie den beobachteten Zusammenhang.\n",
    "</details>"
   ]
  },
  {
   "cell_type": "code",
   "execution_count": null,
   "metadata": {},
   "outputs": [],
   "source": [
    "plt.figure(figsize=(20, 20))\n",
    "\n",
    "# X- & Y-Werte abfragen (X = list_temp_max, Y = list_o3_max)\n",
    "list_temp_max = df_weather['temperatureMax'].tolist()\n",
    "list_o3_max = o3_data_max['O3']['max'].tolist()\n",
    "\n",
    "# Scatterplot anlegen\n",
    "plt.scatter(list_temp_max, list_o3_max, color='dodgerblue')\n",
    "\n",
    "plt.title('Zusammenhang der O3-Maximalkonzentration und Maximaltemperatur 2016-2019', fontdict=dict(fontweight='bold'))\n",
    "\n",
    "plt.xlabel('Maximaltemperatur in °C')\n",
    "plt.ylabel('O3-Maximalkonzentration in µg/m^3')\n",
    "\n",
    "plt.grid()\n",
    "\n",
    "plt.show()"
   ]
  },
  {
   "cell_type": "markdown",
   "metadata": {},
   "source": [
    "### Auswertung der Aufgabe 7f)\n",
    "\n",
    "Anhand des dargestellten Scatter-Plots lässt sich erkennen, dass O3-Maximalkonzentration im Zusammenhang mit der Maximaltemperatur steht. Je wärmer es ist, desto höher ist die O3-Konzentration der Luft."
   ]
  },
  {
   "cell_type": "markdown",
   "metadata": {},
   "source": [
    "<a id='aufgabe7g'></a>\n",
    "***\n",
    "<details>\n",
    "    <summary>g) Aufgabenstellung</summary>\n",
    "    <br>\n",
    "    Ermitteln Sie anhand der Tageswerte den empirischen Korrelationskoeffizienten zwischen\n",
    "der Maximalkonzentration und der Maximaltemperatur.\n",
    "</details>"
   ]
  },
  {
   "cell_type": "code",
   "execution_count": null,
   "metadata": {},
   "outputs": [],
   "source": [
    "# Korrelationskoeffizient aus den obigen Daten 'list_temp_max' und 'list_o3_max' berechnen\n",
    "df_corr = pd.DataFrame({'x': list_temp_max,'y': list_o3_max})\n",
    "\n",
    "print(\"Der Wert des empirischen Korrelationskoeffizienten beträgt \" + str(round(df_corr.corr()['x']['y'], 6)) + '.')"
   ]
  },
  {
   "cell_type": "markdown",
   "metadata": {},
   "source": [
    "<a id='aufgabe7h'></a>\n",
    "***\n",
    "<details>\n",
    "    <summary>h) Aufgabenstellung</summary>\n",
    "    <br>\n",
    "    Erstellen Sie ein lineares Modell zur Modellierung der Beziehung zwischen den beiden Großen. Erzeugen Sie das Streudiagramm erneut und zeichnen Sie die berechnete Gerade mit ein.\n",
    "</details>"
   ]
  },
  {
   "cell_type": "code",
   "execution_count": null,
   "metadata": {},
   "outputs": [],
   "source": [
    "# Lineares Regressionsmodell\n",
    "\n",
    "# x-/y-Werte entsprechend des Korrelationskoeffizienten - wichtig für Blockmatrix und Aufstellung der Regressionsgeraden\n",
    "x = df_corr['x'].values\n",
    "y = df_corr['y'].values\n",
    "\n",
    "# Blockmatrix aufstellen\n",
    "# In die 1. Spalte stehen die ganzen Einsen\n",
    "# In die 2. Spalte stehen die Datenwerte\n",
    "X = np.block([np.ones((len(x), 1)), x.reshape(-1, 1)])\n",
    "\n",
    "# Gleichungssystem mit Hilfe von numpy lösen, um Gewichte der beiden Theta zu bestimmen\n",
    "theta = np.linalg.solve(X.T@X, X.T@y) # @ steht für die Matrix-Multiplikation (alternativ: \"np.dot(X.T, X)\")\n",
    "\n",
    "# Vektor 'vek_reg' enthält die Regressionswerte zum späteren Zeichnen der Regressionsgeraden\n",
    "vek_reg = theta[0] + (theta[1] * x)"
   ]
  },
  {
   "cell_type": "code",
   "execution_count": null,
   "metadata": {
    "scrolled": false
   },
   "outputs": [],
   "source": [
    "plt.figure(figsize=(20, 20))\n",
    "\n",
    "# Scatterplot anlegen\n",
    "plt.scatter(df_corr['x'], df_corr['y'], color='dodgerblue')\n",
    "\n",
    "# Regressionsgerade mit dem Werten von 'vek_reg' einzeichnen\n",
    "plt.plot(df_corr['x'], vek_reg, color='red', linewidth=3)\n",
    "\n",
    "plt.title('Zusammenhang der O3-Maximalkonzentration und Maximaltemperatur 2016-2019', fontdict=dict(fontweight='bold'))\n",
    "\n",
    "plt.xlabel('Maximaltemperatur in °C')\n",
    "plt.ylabel('O3-Maximalkonzentration in µg/m^3')\n",
    "\n",
    "plt.grid()\n",
    "\n",
    "plt.show()"
   ]
  },
  {
   "cell_type": "markdown",
   "metadata": {},
   "source": [
    "<a id='aufgabe8'></a>\n",
    "***\n",
    "## Aufgabe 8: \n",
    "> *Einfluss der Coronavirus-Pandemie auf die Luftqualität*\n",
    "<br>\n",
    "<a href='#gliederung'><b>Zurück zur Gliederung</b></a>"
   ]
  },
  {
   "cell_type": "markdown",
   "metadata": {},
   "source": [
    "<a id='aufgabe8a'></a>\n",
    "***\n",
    "<details>\n",
    "    <summary>a) Daten beziehen</summary>\n",
    "    <br>\n",
    "    Stündliche NO2-Daten im Zeitraum vom <code>01.03.2020</code> bis <code>31.05.2020</code> von der Umweltbundesamt-API beziehen und in einen DataFrame namens <code>data_cor</code> speichern.\n",
    "</details>"
   ]
  },
  {
   "cell_type": "code",
   "execution_count": null,
   "metadata": {
    "scrolled": false
   },
   "outputs": [],
   "source": [
    "# Prüfen, ob die Daten bereits als CSV Datei vorliegen\n",
    "if (path.exists('cache/data_cor.csv')):\n",
    "    data_cor = pd.read_csv('cache/data_cor.csv')\n",
    "else:\n",
    "    # Definiere die spezifischen URL-Parameter\n",
    "    # Scope-ID: 2 = One hour average (siehe https://www.umweltbundesamt.de/api/air_data/v2/scopes/json)\n",
    "    # Component-ID: 5 = Nitrogen dioxide (siehe https://www.umweltbundesamt.de/api/air_data/v2/components/json)\n",
    "    payload = {'date_from': '2020-01-01', 'date_to': '2020-04-30', 'time_from': '1', 'time_to': '24', 'component': '5', 'scope': '2', 'station': ''}\n",
    "\n",
    "    # Aus Performancegründen eine leere temporäre Liste zum Speichern der einzelnen erhaltenen Daten anlegen\n",
    "    data_temp = []\n",
    "\n",
    "    # Iterieren über alle bayerischen Stationen\n",
    "    for id in stations_BY['Id of station']:\n",
    "    \n",
    "        # Station-ID für die API Abfrage aktualisieren\n",
    "        payload['station'] = id\n",
    "    \n",
    "        # POST-HTTP-Request mit oben vordefinirten Parametern\n",
    "        response = requests.post('https://www.umweltbundesamt.de/api/air_data/v2/measures/json', params=payload).json()\n",
    "    \n",
    "        # Zwischenspeichern der erhaltenen Daten\n",
    "        data = response['data']\n",
    "    \n",
    "        # Checken, ob die zurückgelieferten Daten vorhanden sind, falls nicht mit NaN in temporäre Liste 'data_temp' speichern\n",
    "        if not data:\n",
    "            data_temp.append([id, 'NaN', 'NaN'])\n",
    "            continue # Nächste Iteration durchführen\n",
    "        \n",
    "        # Über alle Schlüssel (Datum mit Uhrzeit) iterieren und Werte in temporäre Liste 'data_temp' speichern\n",
    "        for datetime in data[str(id)].keys():\n",
    "            data_temp.append([str(id), datetime, data[str(id)][datetime][2]])\n",
    "    \n",
    "    # DataFrame \"data_cor\" aus oben angelegter temporärer Liste 'data_cor' erstellen\n",
    "    # Grund dafür, dass ich erst jetzt den DataFrame erstelle und nicht am Anfang ist die bessere Performance der .append()-Methode normaler Listen ggü. DataFrames\n",
    "    data_cor = pd.DataFrame(data_temp, columns=['STATION_ID', 'DT', 'NO2'])\n",
    "    \n",
    "    # Als CSV Datei abspeichern, sodass beim nächsten Durchlauf data_no2 um einiges schneller geladen werden kann\n",
    "    data_cor.to_csv('cache/data_cor.csv', index=False)\n",
    "\n",
    "# DataFrame ausgeben\n",
    "data_cor"
   ]
  },
  {
   "cell_type": "markdown",
   "metadata": {},
   "source": [
    "<a id='aufgabe8b'></a>\n",
    "***\n",
    "<details>\n",
    "    <summary>b) Daten aufbereiten</summary>\n",
    "    <br>\n",
    "    Den Datentyp der Spalte <code>NO<sub>2</sub></code> auf <code>float</code> und  den Datentyp der Spalte <code>DT</code> in ein DateTime-Format umwandeln. Zudem werden alle Zeilen gelöscht, in denen ein nicht sinnvoller Wert steht.\n",
    "</details>"
   ]
  },
  {
   "cell_type": "code",
   "execution_count": null,
   "metadata": {},
   "outputs": [],
   "source": [
    "# Datentyp von DT und NO2 entsprechend ändern\n",
    "data_cor = data_cor.astype({'DT' : 'datetime64', 'NO2' : 'float'})\n",
    "\n",
    "# Vorherherige Zeilenanzahl in Variable speichern, sodass der spätere Wert damit verglichen werden kann\n",
    "row_count_before = data_cor.shape[0]\n",
    "\n",
    "# Alle nicht vorhandenen Werte der Spalte \"NO2\" löschen\n",
    "data_cor.dropna(subset=['NO2'], how='all', inplace=True)\n",
    "\n",
    "# Neue Zeilenanzahl nach Löschen der Werte in neue Variable speichern\n",
    "row_count_after = data_cor.shape[0]\n",
    "\n",
    "# Entfernte Zeilen ausgeben\n",
    "deleted_values = row_count_before - row_count_after\n",
    "\n",
    "print('Es wurden insgesamt ' + str(deleted_values) + ' Einträge entfernt.')"
   ]
  },
  {
   "cell_type": "markdown",
   "metadata": {},
   "source": [
    "<a id='aufgabe8c'></a>\n",
    "***\n",
    "<details>\n",
    "    <summary>c) Daten analysieren</summary>\n",
    "    <br>\n",
    "    Aufstellen von Hypothesen mit anschließender Akquirierung & Auswertung.\n",
    "</details>"
   ]
  },
  {
   "cell_type": "markdown",
   "metadata": {},
   "source": [
    "<a id='aufgabe8cH1'></a>\n",
    "***\n",
    "### Hypothese 1\n",
    "> Betrachtet wird im Folgenden die Station mit der im Durchschnitt höchsten NO2-Konzentration - \"München/Landshuter Allee\" (ID: 535).\n",
    "<br>\n",
    "*\\\"In der Woche des Starts der Ausgangsbeschränkung in Bayern ist eine deutliche Auswirkung auf die NO2-Konzentration erkennbar.\\\"*\n",
    "<br><br>\n",
    "<a href='#aufgabe8c'><b>Zurück zur Aufgabestellung</b></a>"
   ]
  },
  {
   "cell_type": "code",
   "execution_count": null,
   "metadata": {},
   "outputs": [],
   "source": [
    "#              #\n",
    "# =-- 2020 --= #\n",
    "#              #\n",
    "\n",
    "# Station 535 (München/Landshuter Allee) aus DataFrame filtern\n",
    "data_535_cor = data_cor.loc[data_cor['STATION_ID'] == 535]\n",
    "\n",
    "# Tag, Monat und Jahr als Variable aus den Daten der Spalte \"DT\" anlegen\n",
    "day = data_535_cor['DT'].dt.day\n",
    "month = data_535_cor['DT'].dt.month\n",
    "year = data_535_cor['DT'].dt.year\n",
    "\n",
    "# Filtern nach allen Werten im Zeitraum vom 18. März bis 25. März 2020 (Woche des Lockdowns)\n",
    "data_535_cor = data_535_cor.loc[(year == 2020) & (month == 3) & (day >= 18) & (day <= 25)]\n",
    "\n",
    "# Nach Tagen gruppieren und Tagesmittelwert berechnen\n",
    "data_535_cor = data_535_cor.set_index('DT').groupby(pd.Grouper(freq='D')).mean()\n",
    "\n",
    "data_535_cor"
   ]
  },
  {
   "cell_type": "code",
   "execution_count": null,
   "metadata": {},
   "outputs": [],
   "source": [
    "#              #\n",
    "# =-- 2019 --= #\n",
    "#              #\n",
    "\n",
    "# Station 535 (München/Landshuter Allee) aus DataFrame filtern\n",
    "data_535_norm = data_no2.loc[data_no2['STATION_ID'] == 535]\n",
    "\n",
    "# Tag, Monat und Jahr als Variable aus den Daten der Spalte \"DT\" anlegen\n",
    "day = data_535_norm['DT'].dt.day\n",
    "month = data_535_norm['DT'].dt.month\n",
    "year = data_535_norm['DT'].dt.year\n",
    "\n",
    "# Filtern nach allen Werten im Zeitraum vom 18. März bis 25. März 2020 (Woche des Lockdowns)\n",
    "data_535_norm = data_535_norm.loc[(year == 2019) & (month == 3) & (day >= 18) & (day <= 25)]\n",
    "\n",
    "# Jahr auf 2020 ändern, sodass es später im Plot richtig dargestellt wird\n",
    "data_535_norm['DT'] = pd.to_datetime(data_535_norm['DT'].dt.strftime(\"2020-%m-%d %H:%M:%S\"))\n",
    "\n",
    "# Nach Tagen gruppieren und Tagesmittelwert berechnen\n",
    "data_535_norm = data_535_norm.set_index('DT').groupby(pd.Grouper(freq='D')).mean()\n",
    "\n",
    "data_535_norm"
   ]
  },
  {
   "cell_type": "code",
   "execution_count": null,
   "metadata": {},
   "outputs": [],
   "source": [
    "plt.figure(figsize=(16, 6))\n",
    "\n",
    "# Liniendiagramm mit den Daten aus dem Jahr 2020 (während des Lockdowns) einzeichnen\n",
    "plt.plot(data_535_cor['NO2'], label='Ø NO2-Konz. (2020)', color='dodgerblue', linewidth='3')\n",
    "\n",
    "# Liniendiagramm mit den Daten aus dem Jahr 2019 (gleicher Zeitraum, nur ein Jahr zuvor) einzeichnen\n",
    "plt.plot(data_535_norm['NO2'], label='Ø NO2-Konz. (2019)', color='orange')\n",
    "\n",
    "# Vertikale Linie an dem Datum des Starts des Lockdowns einzeichnen\n",
    "plt.axvline(pd.to_datetime(\"2020-03-20\"), color='red', label='Start des Lockdowns', linewidth='1.5', linestyle='dashdot')\n",
    "\n",
    "plt.legend()\n",
    "\n",
    "plt.title('Verlauf der durchschnittlichen Tageswerte der NO2-Konzentration vom 18.03.20 bis 25.03.20', fontdict=dict(fontweight='bold'))\n",
    "\n",
    "plt.xlabel('Datum')\n",
    "plt.ylabel('Täglich gemessene Durchschnittswerte der NO2-Konzentration in µg/m^3')\n",
    "\n",
    "plt.grid()\n",
    "\n",
    "plt.show()"
   ]
  },
  {
   "cell_type": "markdown",
   "metadata": {},
   "source": [
    "### Auswertung der Aufgabe 8c) / Hypothese 1\n",
    "\n",
    "Dieses Diagramm zeigt zwei verschieden farbige Linien, welche jeweils für die durchschnittlichen Tagesmesswerte der NO2-Konzentration im Zeitraum vom 18.03.2020 bis 25.03.2020 stehen. Anhand der blau dargestellten Linie lässt sich ziemlich gut erkennen, dass zwischen dem 20.03.2020 und 21.03.2020 ein deutlicher Abfall der NO2-Werte zu verzeichnen war. Zwischen genau diesen zwei Tagen trat die Ausgangsbeschränkung in Bayern in Kraft.  \n",
    "Mit Vergleich zum Vorjahr ist dieser Abfall der NO2-Werte also kein Zufall, sondern hat direkten Zusammenhang mit dem Lockdown in Bayern.  \n",
    "Ein weiterer Grund für den direkten Zusammenhang ist, dass die NO2-Konzentration der Folgetage auf stetig niedrigen Werten bleibt."
   ]
  },
  {
   "cell_type": "markdown",
   "metadata": {},
   "source": [
    "<a id='aufgabe8cH2'></a>\n",
    "***\n",
    "### Hypothese 2\n",
    "> Betrachtet werden im Folgenden alle bayerischen Stationen über den gesamten Betrachtungszeitraum von 01.03.20 bis 31.06.20.\n",
    "<br>\n",
    "*\\\"Die allgemeine Luftqualität (gemessen anhand der NO2-Konzentration) hat sich im Zeitraum des Lockdowns verbessert.\\\"*\n",
    "<br><br>\n",
    "<a href='#aufgabe8c'><b>Zurück zur Aufgabestellung</b></a>"
   ]
  },
  {
   "cell_type": "code",
   "execution_count": null,
   "metadata": {},
   "outputs": [],
   "source": [
    "#                   #\n",
    "# =-- Jahr 2020 --= #\n",
    "#                   #\n",
    "\n",
    "temp_data_cor = data_cor.copy()\n",
    "\n",
    "# Jahr und Monat als Variable aus den Daten der Spalte \"DT\" anlegen\n",
    "year = temp_data_cor['DT'].dt.year\n",
    "month = temp_data_cor['DT'].dt.month\n",
    "\n",
    "# Spalte \"STATION_ID\" aus temporärem Datensatz entfernen\n",
    "temp_data_cor.drop(columns=['STATION_ID'], inplace=True)\n",
    "\n",
    "# Filtern nach allen Werten im Zeitraum von Anfang März bis Ende April 2020 (Zeitraum des Lockdowns)\n",
    "temp_data_cor = temp_data_cor.loc[(year == 2020) & (month >= 3) & (month <= 4)]\n",
    "\n",
    "# Nach Tagen gruppieren und Tagesmittelwert berechnen\n",
    "temp_data_cor = temp_data_cor.set_index('DT').groupby(pd.Grouper(freq='D')).mean()\n",
    "\n",
    "#                   #\n",
    "# =-- Jahr 2019 --= #\n",
    "#                   #\n",
    "\n",
    "temp_data_norm = data_no2.copy()\n",
    "\n",
    "# Jahr und Monat als Variable aus den Daten der Spalte \"DT\" anlegen\n",
    "year = temp_data_norm['DT'].dt.year\n",
    "month = temp_data_norm['DT'].dt.month\n",
    "\n",
    "# Spalte \"STATION_ID\" aus temporärem Datensatz entfernen\n",
    "temp_data_norm.drop(columns=['STATION_ID'], inplace=True)\n",
    "\n",
    "# Filtern nach allen Werten im Zeitraum von Anfang März bis Ende April 2019 (Zeitraum des Lockdowns im Vorjahr 2019)\n",
    "temp_data_norm = temp_data_norm.loc[(year == 2019) & (month >= 3) & (month <= 4)]\n",
    "\n",
    "# Jahr auf 2020 ändern, sodass es später im Plot richtig dargestellt wird\n",
    "temp_data_norm['DT'] = pd.to_datetime(temp_data_norm['DT'].dt.strftime(\"2020-%m-%d %H:%M:%S\"))\n",
    "\n",
    "# Nach Tagen gruppieren und Tagesmittelwert berechnen\n",
    "temp_data_norm = temp_data_norm.set_index('DT').groupby(pd.Grouper(freq='D')).mean()\n",
    "\n",
    "# Gesamte Mittelwerte über alle Tagesmittelwerte berechnen\n",
    "temp_data_norm_avg = temp_data_norm.mean()\n",
    "temp_data_cor_avg = temp_data_cor.mean()"
   ]
  },
  {
   "cell_type": "code",
   "execution_count": null,
   "metadata": {},
   "outputs": [],
   "source": [
    "plt.figure(figsize=(16, 6))\n",
    "\n",
    "# Liniendiagramm mit den Daten aus dem Jahr 2020 (während des Lockdowns) einzeichnen\n",
    "plt.plot(temp_data_cor, label='Ø Tägl. NO2-Konz. (2020)', color='dodgerblue', linewidth='3')\n",
    "\n",
    "# Liniendiagramm mit den Daten aus dem Jahr 2019 (gleicher Zeitraum, nur ein Jahr zuvor) einzeichnen\n",
    "plt.plot(temp_data_norm, label='Ø Tägl. NO2-Konz. (2019)', color='orange')\n",
    "\n",
    "# Horizontale Linie mit dem Durchschnittswert über den Zeitraum des Lockdowns 2020\n",
    "plt.axhline(float(temp_data_cor_avg), color='dodgerblue', label='Ø NO2-Konz. (2020)', linewidth='2', linestyle='dashed')\n",
    "\n",
    "# Horizontale Linie mit dem Durchschnittswert über den Zeitraum des Lockdowns 2019\n",
    "plt.axhline(float(temp_data_norm_avg), color='orange', label='Ø NO2-Konz. (2019)', linestyle='dashed')\n",
    "\n",
    "# Vertikale Linie an dem Datum des Starts des Lockdowns einzeichnen\n",
    "plt.axvline(pd.to_datetime(\"2020-03-20\"), color='red', label='Start des Lockdowns', linewidth='1.5', linestyle='dashdot')\n",
    "\n",
    "plt.legend()\n",
    "\n",
    "plt.title('Vergleich der Durschnittswerte der NO2-Konzentration im Zeitraum des Lockdowns zum Jahr 2018', fontdict=dict(fontweight='bold'))\n",
    "\n",
    "plt.xlabel('Zeitpunkt')\n",
    "plt.ylabel('NO2-Konzentration in µg/m^3')\n",
    "\n",
    "plt.grid()\n",
    "\n",
    "plt.show()"
   ]
  },
  {
   "cell_type": "markdown",
   "metadata": {},
   "source": [
    "### Auswertung der Aufgabe 8c) / Hypothese 2\n",
    "\n",
    "Dieses Diagramm bildet die durchschnittlichen Tagesmittelwerte der NO2-Konzentration whärend des Lockdowns im Vergleich zum exakt selben Zeitraum des Vorjahrs ab.  \n",
    "Die blau eingezeichneten Linien stehen hierbei jeweils für Werte des Jahres 2020 und die orangenen Linien für das Jahr des Lockdowns (2020). Die gestrichelten Linien repräsentieren die Mittelwerte der NO2-Konzentrationen über den hier gegebenen Zeitraum (Anfang März bis Ende April).  \n",
    "Aus diesem Diagramm lässt sich erkennen, wie sich der Lockdown in Bayern auf die allgemeine Luftqualität ausgewirkt hat. In nur diesem kleinen Zeitraum von nur zwei Monaten ist die durchschnittliche NO2-Konzentration um 2.08 µg/m^3 gesunken - das ist unüblich für diese Zeit, da normalerweise der Wert erst gegen Anfang Juli erkennbar sinkt.  \n",
    "Bei der Betrachtung des Lockdown-Starts am 20.03.2020 fällt bei der blauen Linie ein mehr als deutlicher Abfall der NO2-Werte von circa 25 µg/m^3 auf 5 µg/m^3 auf - im direkten Vergleich mit der orangen Linie (Werte des Vorjahrs) ist das eine gegensätzliche Entwicklung, sodass man daraus schlussfolgern kann, dass der Lockdown eine Auswirkung auf die NO2-Werte mit sich zieht. In diesem Zusammenhang kann man also auch folgern, dass sich die Luftqualität in Bayern während des Lockdowns gesteigert hat, was sich neben der niedrigeren durchschnittlichen NO2-Konzentration auch bei dem weiteren Verlauf der blauen Linie zeigt."
   ]
  },
  {
   "cell_type": "markdown",
   "metadata": {},
   "source": [
    "<a id='aufgabe8cH3'></a>\n",
    "***\n",
    "### Hypothese 3\n",
    "> Betrachtet wird im Folgenden drei Messstationen in und um München (Innenstadt \"Landshuter Allee\", Stadtrand \"Allach\" und ländliches Münchner Gebiet \"Andechs/Rothenfeld\")\n",
    "<br>\n",
    "*\\\"Das Verhalten der NO2-Konzentration während des Lockdowns in Bayern verhält sich sowohl in ländlichen als auch in städtischen Gebieten in etwa gleich.\\\"*\n",
    "<br><br>\n",
    "<a href='#aufgabe8c'><b>Zurück zur Aufgabestellung</b></a>"
   ]
  },
  {
   "cell_type": "code",
   "execution_count": null,
   "metadata": {},
   "outputs": [],
   "source": [
    "# Vergleich München Innenstadt (\"Landshuter Allee\": ID 535), Stadtrand (\"Allach\": ID 609) \n",
    "# und Ländliches Münchner Gebiet (\"Andechs/Rothenfeld\": ID 529)\n",
    "\n",
    "# Durchschnittliche NO2-Werte im Zeitraum vor dem Lockdown berechnen\n",
    "def get_avg_before(station_id):\n",
    "    # Angegebene Stations-ID aus DataFrame filtern\n",
    "    temp_station = data_cor.loc[data_cor['STATION_ID'] == station_id]\n",
    "    \n",
    "    # Jahr und Monat als Variable aus den Daten der Spalte \"DT\" anlegen\n",
    "    day = temp_station['DT'].dt.day\n",
    "    month = temp_station['DT'].dt.month\n",
    "    \n",
    "    # Filtern nach allen Werten im Zeitraum von Anfang Januar bis Ende März 2020 (Zeitraum vor dem Lockdown) und alle NO2-Werte im gegebenen Zeitraum berechnen\n",
    "    return temp_station.loc[(month >= 1) & (month <= 3) & (day < 22)]['NO2'].mean()\n",
    "\n",
    "# Durchschnittliche NO2-Werte im Zeitraum während des Lockdowns berechnen\n",
    "def get_avg_lockdown(station_id):\n",
    "    # Angegebene Stations-ID aus DataFrame filtern\n",
    "    temp_station = data_cor.loc[data_cor['STATION_ID'] == station_id]\n",
    "    \n",
    "    # Jahr und Monat als Variable aus den Daten der Spalte \"DT\" anlegen\n",
    "    day = temp_station['DT'].dt.day\n",
    "    month = temp_station['DT'].dt.month\n",
    "    \n",
    "    # Filtern nach allen Werten im Zeitraum von 22. März bis Ende April 2020 (Genauer Zeitraum des Lockdowns) und alle NO2-Werte im gegebenen Zeitraum berechnen\n",
    "    return temp_station.loc[((month >= 3) & (day >= 22)) & ((month <= 4))]['NO2'].mean()\n",
    "\n",
    "#                                                         #\n",
    "# =-- München Innenstadt (\"Landshuter Allee\": ID 535) --= #\n",
    "#                                                         #\n",
    "\n",
    "# Mittelwert über alle NO2-Werte im gegebenen Zeitraum\n",
    "data_535_before_avg = get_avg_before(535)\n",
    "data_535_lockdown_avg = get_avg_lockdown(535)\n",
    "\n",
    "\n",
    "#                                              #\n",
    "# =-- München Stadtrand (\"Allach\": ID 609) --= #\n",
    "#                                              #\n",
    "\n",
    "# Mittelwert über alle NO2-Werte im gegebenen Zeitraum\n",
    "data_609_before_avg = get_avg_before(609)\n",
    "data_609_lockdown_avg = get_avg_lockdown(609)\n",
    "\n",
    "\n",
    "#                                                                   #\n",
    "# =-- Ländliches Münchner Gebiet (\"Andechs/Rothenfeld\": ID 529) --= #\n",
    "#                                                                   #\n",
    "\n",
    "# Mittelwert über alle NO2-Werte im gegebenen Zeitraum\n",
    "data_529_before_avg = get_avg_before(529)\n",
    "data_529_lockdown_avg = get_avg_lockdown(529)\n",
    "\n",
    "# NO2-Mittelwerte der (linken) Säulen (= vor dem Lockdown) in Liste speichern\n",
    "bar_before = [data_535_before_avg, data_609_before_avg, data_529_before_avg]\n",
    "\n",
    "# NO2-Mittelwerte der (rechten) Säulen (= während des Lockdowns) in Liste speichern\n",
    "bar_after = [data_535_lockdown_avg, data_609_lockdown_avg, data_529_lockdown_avg]\n",
    "\n",
    "# X-Achsen-Einteilung festlegen\n",
    "x = np.arange(len(bar_before))\n",
    "\n",
    "# Breite einer Säule, sodass zwei Säulen korrekt nebeneinander angezeigt werden können\n",
    "bar_width = 0.25\n",
    "\n",
    "plt.figure(figsize=(16, 9))\n",
    "\n",
    "# Jeweils linke Säulen mit Werten vor Beginn des Lockdowns zeichnen\n",
    "plt.bar(x, bar_before, width=bar_width, color='dodgerblue', label='Mittelwert 1. Jan. - 22. März vor Beginn des Lockdowns')\n",
    "\n",
    "# Jeweils rechte Säulen mit Werten während des Lockdowns zeichnen\n",
    "plt.bar(x + bar_width, bar_after, width=bar_width, color='orange', label='Mittelwert ab Lockdown (22. März - 30. Apr.)')\n",
    "\n",
    "plt.legend()\n",
    "\n",
    "plt.title('NO2-Konzentration in und um München vor und während des Corona-Lockdowns', fontdict=dict(fontweight='bold'))\n",
    "\n",
    "plt.ylabel('NO2-Konzentration in µg/m^3')\n",
    "\n",
    "# Beschriftung der gruppierten Säulen hinzufügen\n",
    "plt.xticks(x + bar_width / 2, ['Mittel über Messstation Landshuter Allee (Innenstadt)', 'Mittel über Messstation Allach (Stadtrand)', 'Mittel über Messstation Andechs (i.d.N.v. München)'])\n",
    "\n",
    "plt.show()"
   ]
  },
  {
   "cell_type": "markdown",
   "metadata": {},
   "source": [
    "### Auswertung der Aufgabe 8c) / Hypothese 3\n",
    "\n",
    "In diesem Säulendiagramm werden die durchschnittlichen NO2-Werte von insgesamt drei Münchner Messstationen vor und während des Lockdowns gegenüber gestellt. Die Messstationen sind so gewählt, dass sich eine Station in der Innenstadt, eine in einem Wohngebiet mit weniger Verkehrsaufkommen und eine in einem ländlichen Münchner Gebiet befindet. Hintergrundidee dieser Auswahl der Stationen ist, die Stärke der Auswirkung des Lockdowns auf die unterschiedlichen Gebiete einer Stadt herauszufinden.\n",
    "Beim Vergleich der drei gruppierten Säulen lässt sich auf den ersten Blick erkennen, dass die Auswirkungen auf die Luftqualität in der Innenstadt am größten ausfällt. Am Land hingegen ist der Rückgang der NO2-Konzentration nur auf dem Blatt zu erkennen, in der Realität merkt man vermutlich nichts von einer niedrigeren NO2-Konzentration in der Luft. Dass die Auswirkungen in der Stadt am höchsten sind lässt sich auch darauf zurückführen, dass durch die Ausgangsbeschränkung grundsätzlich weniger Verkehr in den Innenstädten ist: Die Menschen bleiben größenteils zu Hause und gehen nur für wirklich notwendige Besorgungen vor die Haustür.  \n",
    "Ein weiterer Grund für den äußerst geringen Rückgang des NO2-Werts bei der ländlichen Messstation ist, dass die Leute auf dem Land sowieso mit dem Auto zur nächst größeren Stadt fahren müssen, um z. B. Lebensmittel besorgen zu können - in der Stadt ist dies nicht zwingend notwendig. Zudem ist zum einen dort grundsätzlich weniger Verkehr und zum anderen kann sich die Luft besser verteilen, sodass die NO2-Konzentration grundsätzlich geringer ist als in der Stadt."
   ]
  },
  {
   "cell_type": "markdown",
   "metadata": {},
   "source": [
    "<a id='zusammenfassung'></a>\n",
    "***\n",
    "## Zusammenfassung der Analyseergebnisse\n",
    "> Das Dokument soll [...] eine abschließende Zusammenfassung der Analyseergebnisse und der gewonnenen Erkenntnisse enthalten.\n",
    "<br>\n",
    "<a href='#gliederung'><b>Zurück zur Gliederung</b></a>"
   ]
  },
  {
   "cell_type": "markdown",
   "metadata": {},
   "source": [
    "In **Aufgabe 1** ging es vorerst darum, sich grundlegend mit der Thematik auseinanderzusetzen und sich einen groben Überblick über die Fachbegriffe und den damit in Verbindung stehenden Daten zu schaffen. Mit Hilfe der API des Umweltbundesamts wurden zuerst einmal alle Stationen erfasst und diese danach analysiert. Es hat sich herausgestellt, dass über 60% der Stationen in ländlichen Gebieten stehen, jedoch nur knapp 6% in Industriegebieten - die restlichen Messstationen befinden sich an Straßen mit hohem Verkehrsaufkommen. Anhand der interaktiven Karte konnte man erkennen, dass die Stationsdichte in der Nähe von Städten deutlich höher ausfällt, als im restlichen Bereich zwischen den Großstädten wie Berlin, Stuttgart, München oder um Köln.  \n",
    "In **Aufgabe 2** war es die Aufgabe, die NO2-Werte aller bayerischen Stationen zu speichern und aufzubereiten, sodass diese Daten in späteren Aufgaben einwandfrei benutzt werden können. Im Laufe der Datenaufbereitung wurden von insgesamt mehr als 1.6 Millionen Datensätzen 12315 Zeilen mit ungültigen Werten gefunden, welche anschließend vom originalen Datensatz entfernt wurden, sodass noch Daten zu 47 unterschiedlichen Stationen vorhanden waren.  \n",
    "**Aufgabe 3** beschäftigte sich mit der explorativen Datenanalyse. In den ersten drei Teilaufgaben wurden unterschiedlichste Höchstwerte zu verschiedenen Stationen ermittelt. Danach wurde die zeitliche Entwicklung der NO2-Konzentration abhängig der Stations-Typen ermittelt und als DataFrame gespeichert. Daraus wurde erkenntlich, dass sowohl in den Verkehrs-, als auch in den Hintergrundbereichen die Werte von Jahr zu Jahr tendenziell gesunken sind.  \n",
    "In **Aufgabe 4** hat man sich die Überschreitungen näher angeschaut. Dabei hat sich herausgestellt, dass insgesamt vier Stationen den Stundengrenzwert von 200 µg/m^3 im Laufe der Jahre 2016-2019 mindestens einmal überschritten haben. Besonders ist die Messstationen in München an der Landshuter Allee herausgestochen: Diese hat den Grenzwert in den vier Jahren insgesamt 18 Mal überschritten.  \n",
    "In **Aufgabe 5** wurden die aufbereiteten Daten in Form von Text & Diagrammen visuell dargestellt. Das Histogramm zeigt schön die Verteilung der NO2-Konzentration. Anhand der rot eingezeichneten vertikalen Linie lässt sich der Median ablesen, welcher bei ungefähr 25 µg/m^3 liegt. Betrachtet man den jahreszeitlichen Verlauf im Diagramm der nächsten Teilaufgabe erkennt man zum einen, dass die Werte von Jahr zu Jahr tendenziell weniger wurden und zum anderen, dass die NO2-Konzentration in den Sommermonaten sinkt und zu den Wintermonaten hin wieder steigt und ihre Höchstwerte erreicht. Betrachtet man den Zeitverlauf der Tagesmittel über den gesamten Beobachtungszeitraum fallen zwei Dinge aus. Erstens ist derselbe Verlauf wie in Teilaufgabe b) zu erkennen und zweitens ist zwischen Februar und April 2017 ein deutlicher Ausschlag der NO2-Werte gemessen worden. Trends zeigen sich in der Hinsicht, dass die NO2-Konzentration typischerweise in der warmen Monaten fällt und sobald es kälter wird wieder ansteigt.  \n",
    "Das interaktive Diagramm in **Aufgabe 6** zeigt den Unterschied zwischen Land & Stadt in Bezug auf die Verteilung der NO2-Werte über den gesamten Tag. Es fällt direkt auf, dass die Werte in Hintergrundbereichen geringer als in Verkehrsnahen Bereichen sind. Zudem erkennt man unter der Woche in beiden Bereichen die typischen \"Berufsverkehrszeiten\" von 5-10 Uhr vormittags und von 16-20 Uhr abends, an denen die NO2-Werte ihre Höhepunkte erreichen. Am Wochenende hingegen sind die Werte durchschnittlich geringer.\n",
    "Die Analyse der Ozonwerte in **Aufgabe 7** zeigt, dass sich diese genau gegengesetzt der NO2-Werte verhalten. Die NO2-Konzentration fällt bei warmen Temperaturen, wohingegen die Ozon-Konzentration steigen. Diesen Zusammenhang zwischen der Temperatur und der O3-Konzentration wird auch in dem erstellten Streudiagramm visuell untermalt, denn je wärmer die Temperaturen sind, desto höher ist der O3-Gehalt in der Luft.\n",
    "***"
   ]
  }
 ],
 "metadata": {
  "kernelspec": {
   "display_name": "Python 3",
   "language": "python",
   "name": "python3"
  },
  "language_info": {
   "codemirror_mode": {
    "name": "ipython",
    "version": 3
   },
   "file_extension": ".py",
   "mimetype": "text/x-python",
   "name": "python",
   "nbconvert_exporter": "python",
   "pygments_lexer": "ipython3",
   "version": "3.8.5"
  }
 },
 "nbformat": 4,
 "nbformat_minor": 4
}
